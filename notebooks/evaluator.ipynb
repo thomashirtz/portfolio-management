{
 "cells": [
  {
   "cell_type": "code",
   "execution_count": 1,
   "id": "dbb100f3",
   "metadata": {},
   "outputs": [],
   "source": [
    "from typing import Optional\n",
    "from typing import Union\n",
    "from typing import Sequence\n",
    "from typing import List\n",
    "\n",
    "import torch\n",
    "import torch.nn as nn"
   ]
  },
  {
   "cell_type": "code",
   "execution_count": 2,
   "id": "091a66a2",
   "metadata": {},
   "outputs": [],
   "source": [
    "num_samples = 1\n",
    "\n",
    "num_symbols = 3\n",
    "num_features = 4\n",
    "num_observations = 5\n",
    "\n",
    "num_outputs = 2\n",
    "\n",
    "x = torch.rand((num_samples, num_symbols, num_features, num_observations))"
   ]
  },
  {
   "cell_type": "code",
   "execution_count": 3,
   "id": "6df6cd13",
   "metadata": {},
   "outputs": [],
   "source": [
    "def apply_along_axis(function, x, axis: int = 0):\n",
    "    return torch.stack([\n",
    "        function(x_i) for x_i in torch.unbind(x, dim=axis)\n",
    "    ], dim=axis)\n",
    "\n",
    "class BasicModel(nn.Module):\n",
    "    def __init__(self, num_observations, num_properties, num_outputs):\n",
    "        super(BasicModel, self).__init__()\n",
    "        self.num_properties = num_properties\n",
    "        self.num_observations = num_observations\n",
    "        self.num_outputs = num_outputs\n",
    "        self.linear = nn.Linear(num_properties*num_observations, num_outputs)\n",
    "\n",
    "    def forward(self, observation: torch.Tensor):\n",
    "        observation = torch.flatten(observation, start_dim=2)\n",
    "        output = apply_along_axis(self.linear, observation)\n",
    "        return output\n",
    "\n",
    "basic_model = BasicModel(num_observations, num_features, num_outputs)"
   ]
  },
  {
   "cell_type": "code",
   "execution_count": 4,
   "id": "0747850c",
   "metadata": {},
   "outputs": [
    {
     "data": {
      "text/plain": [
       "torch.Size([1, 3, 2])"
      ]
     },
     "execution_count": 4,
     "metadata": {},
     "output_type": "execute_result"
    }
   ],
   "source": [
    "basic_model(x).shape"
   ]
  }
 ],
 "metadata": {
  "kernelspec": {
   "display_name": "Python 3",
   "language": "python",
   "name": "python3"
  },
  "language_info": {
   "codemirror_mode": {
    "name": "ipython",
    "version": 3
   },
   "file_extension": ".py",
   "mimetype": "text/x-python",
   "name": "python",
   "nbconvert_exporter": "python",
   "pygments_lexer": "ipython3",
   "version": "3.8.8"
  }
 },
 "nbformat": 4,
 "nbformat_minor": 5
}
