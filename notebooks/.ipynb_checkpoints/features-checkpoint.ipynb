{
 "cells": [
  {
   "cell_type": "code",
   "execution_count": 1,
   "id": "af8eefd0",
   "metadata": {},
   "outputs": [],
   "source": [
    "import sys\n",
    "from pathlib import Path\n",
    "portfolio_management_path = Path.cwd().parent\n",
    "sys.path.insert(0, str(portfolio_management_path))\n",
    "\n",
    "from portfolio_management.database.retrieve import get_dataset"
   ]
  },
  {
   "cell_type": "code",
   "execution_count": 2,
   "id": "8a2809d2",
   "metadata": {},
   "outputs": [],
   "source": [
    "import xarray as xr\n",
    "import numpy as np\n",
    "import pandas as pd"
   ]
  },
  {
   "cell_type": "code",
   "execution_count": 3,
   "id": "d7f31794",
   "metadata": {},
   "outputs": [],
   "source": [
    "from portfolio_management.database.retrieve import get_dataframe"
   ]
  },
  {
   "cell_type": "code",
   "execution_count": 4,
   "id": "bd457499",
   "metadata": {},
   "outputs": [],
   "source": [
    "df = get_dataframe(folder_path=r'D:\\Thomas\\GitHub\\portfolio-management\\databases', database_name='database_train', symbol='ETHTUSD', interval='5m')"
   ]
  },
  {
   "cell_type": "code",
   "execution_count": 5,
   "id": "cd4dd0db",
   "metadata": {},
   "outputs": [
    {
     "data": {
      "text/html": [
       "<div>\n",
       "<style scoped>\n",
       "    .dataframe tbody tr th:only-of-type {\n",
       "        vertical-align: middle;\n",
       "    }\n",
       "\n",
       "    .dataframe tbody tr th {\n",
       "        vertical-align: top;\n",
       "    }\n",
       "\n",
       "    .dataframe thead th {\n",
       "        text-align: right;\n",
       "    }\n",
       "</style>\n",
       "<table border=\"1\" class=\"dataframe\">\n",
       "  <thead>\n",
       "    <tr style=\"text-align: right;\">\n",
       "      <th></th>\n",
       "      <th>open_time</th>\n",
       "      <th>open</th>\n",
       "      <th>low</th>\n",
       "      <th>volume</th>\n",
       "      <th>number_of_trades</th>\n",
       "      <th>taker_buy_base_asset_volume</th>\n",
       "      <th>high</th>\n",
       "      <th>close_time</th>\n",
       "      <th>close</th>\n",
       "      <th>quote_asset_volume</th>\n",
       "      <th>taker_buy_quote_asset_volume</th>\n",
       "      <th>r_open</th>\n",
       "      <th>r_close</th>\n",
       "      <th>r_high</th>\n",
       "      <th>r_low</th>\n",
       "      <th>rto_close</th>\n",
       "      <th>rto_low</th>\n",
       "      <th>rto_high</th>\n",
       "    </tr>\n",
       "  </thead>\n",
       "  <tbody>\n",
       "    <tr>\n",
       "      <th>0</th>\n",
       "      <td>2020-01-01 00:00:00</td>\n",
       "      <td>128.78</td>\n",
       "      <td>128.78</td>\n",
       "      <td>0.00000</td>\n",
       "      <td>0.0</td>\n",
       "      <td>0.00000</td>\n",
       "      <td>128.78</td>\n",
       "      <td>2020-01-01 00:05:00</td>\n",
       "      <td>128.78</td>\n",
       "      <td>0.000000</td>\n",
       "      <td>0.000000</td>\n",
       "      <td>NaN</td>\n",
       "      <td>NaN</td>\n",
       "      <td>NaN</td>\n",
       "      <td>NaN</td>\n",
       "      <td>1.000000</td>\n",
       "      <td>1.000000</td>\n",
       "      <td>1.000000</td>\n",
       "    </tr>\n",
       "    <tr>\n",
       "      <th>1</th>\n",
       "      <td>2020-01-01 00:05:00</td>\n",
       "      <td>128.53</td>\n",
       "      <td>128.19</td>\n",
       "      <td>7.61742</td>\n",
       "      <td>6.0</td>\n",
       "      <td>0.12319</td>\n",
       "      <td>128.53</td>\n",
       "      <td>2020-01-01 00:10:00</td>\n",
       "      <td>128.19</td>\n",
       "      <td>976.606737</td>\n",
       "      <td>15.833611</td>\n",
       "      <td>1.001945</td>\n",
       "      <td>1.004603</td>\n",
       "      <td>1.001945</td>\n",
       "      <td>1.004603</td>\n",
       "      <td>0.997355</td>\n",
       "      <td>0.997355</td>\n",
       "      <td>1.000000</td>\n",
       "    </tr>\n",
       "    <tr>\n",
       "      <th>2</th>\n",
       "      <td>2020-01-01 00:10:00</td>\n",
       "      <td>128.39</td>\n",
       "      <td>128.39</td>\n",
       "      <td>2.75499</td>\n",
       "      <td>1.0</td>\n",
       "      <td>0.00000</td>\n",
       "      <td>128.39</td>\n",
       "      <td>2020-01-01 00:15:00</td>\n",
       "      <td>128.39</td>\n",
       "      <td>353.713166</td>\n",
       "      <td>0.000000</td>\n",
       "      <td>1.001090</td>\n",
       "      <td>0.998442</td>\n",
       "      <td>1.001090</td>\n",
       "      <td>0.998442</td>\n",
       "      <td>1.000000</td>\n",
       "      <td>1.000000</td>\n",
       "      <td>1.000000</td>\n",
       "    </tr>\n",
       "    <tr>\n",
       "      <th>3</th>\n",
       "      <td>2020-01-01 00:15:00</td>\n",
       "      <td>128.43</td>\n",
       "      <td>128.43</td>\n",
       "      <td>3.33200</td>\n",
       "      <td>1.0</td>\n",
       "      <td>0.00000</td>\n",
       "      <td>128.43</td>\n",
       "      <td>2020-01-01 00:20:00</td>\n",
       "      <td>128.43</td>\n",
       "      <td>427.928760</td>\n",
       "      <td>0.000000</td>\n",
       "      <td>0.999689</td>\n",
       "      <td>0.999689</td>\n",
       "      <td>0.999689</td>\n",
       "      <td>0.999689</td>\n",
       "      <td>1.000000</td>\n",
       "      <td>1.000000</td>\n",
       "      <td>1.000000</td>\n",
       "    </tr>\n",
       "    <tr>\n",
       "      <th>4</th>\n",
       "      <td>2020-01-01 00:20:00</td>\n",
       "      <td>128.41</td>\n",
       "      <td>128.28</td>\n",
       "      <td>28.76823</td>\n",
       "      <td>5.0</td>\n",
       "      <td>0.00000</td>\n",
       "      <td>128.41</td>\n",
       "      <td>2020-01-01 00:25:00</td>\n",
       "      <td>128.28</td>\n",
       "      <td>3691.328840</td>\n",
       "      <td>0.000000</td>\n",
       "      <td>1.000156</td>\n",
       "      <td>1.001169</td>\n",
       "      <td>1.000156</td>\n",
       "      <td>1.001169</td>\n",
       "      <td>0.998988</td>\n",
       "      <td>0.998988</td>\n",
       "      <td>1.000000</td>\n",
       "    </tr>\n",
       "    <tr>\n",
       "      <th>...</th>\n",
       "      <td>...</td>\n",
       "      <td>...</td>\n",
       "      <td>...</td>\n",
       "      <td>...</td>\n",
       "      <td>...</td>\n",
       "      <td>...</td>\n",
       "      <td>...</td>\n",
       "      <td>...</td>\n",
       "      <td>...</td>\n",
       "      <td>...</td>\n",
       "      <td>...</td>\n",
       "      <td>...</td>\n",
       "      <td>...</td>\n",
       "      <td>...</td>\n",
       "      <td>...</td>\n",
       "      <td>...</td>\n",
       "      <td>...</td>\n",
       "      <td>...</td>\n",
       "    </tr>\n",
       "    <tr>\n",
       "      <th>104867</th>\n",
       "      <td>2020-12-30 23:40:00</td>\n",
       "      <td>751.00</td>\n",
       "      <td>750.34</td>\n",
       "      <td>1.81491</td>\n",
       "      <td>4.0</td>\n",
       "      <td>0.17818</td>\n",
       "      <td>751.00</td>\n",
       "      <td>2020-12-30 23:45:00</td>\n",
       "      <td>750.34</td>\n",
       "      <td>1361.991410</td>\n",
       "      <td>133.813180</td>\n",
       "      <td>0.997630</td>\n",
       "      <td>0.998507</td>\n",
       "      <td>0.997630</td>\n",
       "      <td>0.998507</td>\n",
       "      <td>0.999121</td>\n",
       "      <td>0.999121</td>\n",
       "      <td>1.000000</td>\n",
       "    </tr>\n",
       "    <tr>\n",
       "      <th>104868</th>\n",
       "      <td>2020-12-30 23:45:00</td>\n",
       "      <td>753.60</td>\n",
       "      <td>753.60</td>\n",
       "      <td>1.13333</td>\n",
       "      <td>2.0</td>\n",
       "      <td>0.39775</td>\n",
       "      <td>754.26</td>\n",
       "      <td>2020-12-30 23:50:00</td>\n",
       "      <td>754.26</td>\n",
       "      <td>854.340003</td>\n",
       "      <td>300.006915</td>\n",
       "      <td>0.996550</td>\n",
       "      <td>0.994803</td>\n",
       "      <td>0.995678</td>\n",
       "      <td>0.995674</td>\n",
       "      <td>1.000876</td>\n",
       "      <td>1.000000</td>\n",
       "      <td>1.000876</td>\n",
       "    </tr>\n",
       "    <tr>\n",
       "      <th>104869</th>\n",
       "      <td>2020-12-30 23:50:00</td>\n",
       "      <td>753.10</td>\n",
       "      <td>753.10</td>\n",
       "      <td>2.65661</td>\n",
       "      <td>1.0</td>\n",
       "      <td>2.65661</td>\n",
       "      <td>753.10</td>\n",
       "      <td>2020-12-30 23:55:00</td>\n",
       "      <td>753.10</td>\n",
       "      <td>2000.692991</td>\n",
       "      <td>2000.692991</td>\n",
       "      <td>1.000664</td>\n",
       "      <td>1.001540</td>\n",
       "      <td>1.001540</td>\n",
       "      <td>1.000664</td>\n",
       "      <td>1.000000</td>\n",
       "      <td>1.000000</td>\n",
       "      <td>1.000000</td>\n",
       "    </tr>\n",
       "    <tr>\n",
       "      <th>104870</th>\n",
       "      <td>2020-12-30 23:55:00</td>\n",
       "      <td>751.55</td>\n",
       "      <td>750.70</td>\n",
       "      <td>14.61393</td>\n",
       "      <td>12.0</td>\n",
       "      <td>0.00000</td>\n",
       "      <td>751.94</td>\n",
       "      <td>2020-12-31 00:00:00</td>\n",
       "      <td>751.80</td>\n",
       "      <td>10982.798097</td>\n",
       "      <td>0.000000</td>\n",
       "      <td>1.002062</td>\n",
       "      <td>1.001729</td>\n",
       "      <td>1.001543</td>\n",
       "      <td>1.003197</td>\n",
       "      <td>1.000333</td>\n",
       "      <td>0.998869</td>\n",
       "      <td>1.000519</td>\n",
       "    </tr>\n",
       "    <tr>\n",
       "      <th>104871</th>\n",
       "      <td>2020-12-31 00:00:00</td>\n",
       "      <td>754.00</td>\n",
       "      <td>751.80</td>\n",
       "      <td>3.13887</td>\n",
       "      <td>5.0</td>\n",
       "      <td>0.27561</td>\n",
       "      <td>754.00</td>\n",
       "      <td>2020-12-31 00:05:00</td>\n",
       "      <td>752.45</td>\n",
       "      <td>2363.315480</td>\n",
       "      <td>207.531560</td>\n",
       "      <td>0.996751</td>\n",
       "      <td>0.999136</td>\n",
       "      <td>0.997268</td>\n",
       "      <td>0.998537</td>\n",
       "      <td>0.997944</td>\n",
       "      <td>0.997082</td>\n",
       "      <td>1.000000</td>\n",
       "    </tr>\n",
       "  </tbody>\n",
       "</table>\n",
       "<p>104872 rows × 18 columns</p>\n",
       "</div>"
      ],
      "text/plain": [
       "                 open_time    open     low    volume  number_of_trades  \\\n",
       "0      2020-01-01 00:00:00  128.78  128.78   0.00000               0.0   \n",
       "1      2020-01-01 00:05:00  128.53  128.19   7.61742               6.0   \n",
       "2      2020-01-01 00:10:00  128.39  128.39   2.75499               1.0   \n",
       "3      2020-01-01 00:15:00  128.43  128.43   3.33200               1.0   \n",
       "4      2020-01-01 00:20:00  128.41  128.28  28.76823               5.0   \n",
       "...                    ...     ...     ...       ...               ...   \n",
       "104867 2020-12-30 23:40:00  751.00  750.34   1.81491               4.0   \n",
       "104868 2020-12-30 23:45:00  753.60  753.60   1.13333               2.0   \n",
       "104869 2020-12-30 23:50:00  753.10  753.10   2.65661               1.0   \n",
       "104870 2020-12-30 23:55:00  751.55  750.70  14.61393              12.0   \n",
       "104871 2020-12-31 00:00:00  754.00  751.80   3.13887               5.0   \n",
       "\n",
       "        taker_buy_base_asset_volume    high          close_time   close  \\\n",
       "0                           0.00000  128.78 2020-01-01 00:05:00  128.78   \n",
       "1                           0.12319  128.53 2020-01-01 00:10:00  128.19   \n",
       "2                           0.00000  128.39 2020-01-01 00:15:00  128.39   \n",
       "3                           0.00000  128.43 2020-01-01 00:20:00  128.43   \n",
       "4                           0.00000  128.41 2020-01-01 00:25:00  128.28   \n",
       "...                             ...     ...                 ...     ...   \n",
       "104867                      0.17818  751.00 2020-12-30 23:45:00  750.34   \n",
       "104868                      0.39775  754.26 2020-12-30 23:50:00  754.26   \n",
       "104869                      2.65661  753.10 2020-12-30 23:55:00  753.10   \n",
       "104870                      0.00000  751.94 2020-12-31 00:00:00  751.80   \n",
       "104871                      0.27561  754.00 2020-12-31 00:05:00  752.45   \n",
       "\n",
       "        quote_asset_volume  taker_buy_quote_asset_volume    r_open   r_close  \\\n",
       "0                 0.000000                      0.000000       NaN       NaN   \n",
       "1               976.606737                     15.833611  1.001945  1.004603   \n",
       "2               353.713166                      0.000000  1.001090  0.998442   \n",
       "3               427.928760                      0.000000  0.999689  0.999689   \n",
       "4              3691.328840                      0.000000  1.000156  1.001169   \n",
       "...                    ...                           ...       ...       ...   \n",
       "104867         1361.991410                    133.813180  0.997630  0.998507   \n",
       "104868          854.340003                    300.006915  0.996550  0.994803   \n",
       "104869         2000.692991                   2000.692991  1.000664  1.001540   \n",
       "104870        10982.798097                      0.000000  1.002062  1.001729   \n",
       "104871         2363.315480                    207.531560  0.996751  0.999136   \n",
       "\n",
       "          r_high     r_low  rto_close   rto_low  rto_high  \n",
       "0            NaN       NaN   1.000000  1.000000  1.000000  \n",
       "1       1.001945  1.004603   0.997355  0.997355  1.000000  \n",
       "2       1.001090  0.998442   1.000000  1.000000  1.000000  \n",
       "3       0.999689  0.999689   1.000000  1.000000  1.000000  \n",
       "4       1.000156  1.001169   0.998988  0.998988  1.000000  \n",
       "...          ...       ...        ...       ...       ...  \n",
       "104867  0.997630  0.998507   0.999121  0.999121  1.000000  \n",
       "104868  0.995678  0.995674   1.000876  1.000000  1.000876  \n",
       "104869  1.001540  1.000664   1.000000  1.000000  1.000000  \n",
       "104870  1.001543  1.003197   1.000333  0.998869  1.000519  \n",
       "104871  0.997268  0.998537   0.997944  0.997082  1.000000  \n",
       "\n",
       "[104872 rows x 18 columns]"
      ]
     },
     "execution_count": 5,
     "metadata": {},
     "output_type": "execute_result"
    }
   ],
   "source": [
    "def get_relative_change(value):\n",
    "    return value.shift(1)/value\n",
    "\n",
    "def get_relative_to(value, reference):\n",
    "    return value/reference\n",
    "\n",
    "# relative change\n",
    "df['r_open'] = get_relative_change(df['open'])\n",
    "df['r_close'] = get_relative_change(df['close'])\n",
    "df['r_high'] = get_relative_change(df['high'])\n",
    "df['r_low'] = get_relative_change(df['low'])\n",
    "\n",
    "# relative to open\n",
    "df['rto_close'] = get_relative_to(df['close'], df['open'])\n",
    "df['rto_low'] = get_relative_to(df['low'], df['open'])\n",
    "df['rto_high'] = get_relative_to(df['high'], df['open'])\n",
    "\n",
    "df"
   ]
  },
  {
   "cell_type": "code",
   "execution_count": 25,
   "id": "bf7aa0b6",
   "metadata": {},
   "outputs": [
    {
     "data": {
      "text/plain": [
       "array([[1.0000e-08, 1.0000e-08, 1.0000e-08, ..., 1.2878e+02, 1.2878e+02,\n",
       "        1.2878e+02],\n",
       "       [1.2878e+02, 1.2878e+02, 1.2878e+02, ..., 1.2819e+02, 1.2819e+02,\n",
       "        1.2853e+02],\n",
       "       [1.2853e+02, 1.2819e+02, 1.2819e+02, ..., 1.2839e+02, 1.2839e+02,\n",
       "        1.2839e+02],\n",
       "       ...,\n",
       "       [7.5360e+02, 7.5360e+02, 7.5426e+02, ..., 7.5310e+02, 7.5310e+02,\n",
       "        7.5310e+02],\n",
       "       [7.5310e+02, 7.5310e+02, 7.5310e+02, ..., 7.5070e+02, 7.5180e+02,\n",
       "        7.5194e+02],\n",
       "       [7.5155e+02, 7.5070e+02, 7.5180e+02, ..., 7.5180e+02, 7.5245e+02,\n",
       "        7.5400e+02]])"
      ]
     },
     "execution_count": 25,
     "metadata": {},
     "output_type": "execute_result"
    }
   ],
   "source": [
    "df[['open_s', 'low_s', 'close_s', 'high_s']] = df[['open', 'low', 'close', 'high']].shift(1)\n",
    "nominator = np.array(df[['open_s', 'low_s', 'close_s', 'high_s', 'open', 'low', 'close', 'high']])\n",
    "denominator = np.array(df[['open', 'low', 'close', 'high']])\n",
    "\n",
    "nominator = np.nan_to_num(nominator, nan=0.0)\n",
    "denominator = np.nan_to_num(denominator, nan=0.0)\n",
    "\n",
    "epsilon = 10e-9\n",
    "nominator = nominator + epsilon\n",
    "denominator = denominator + epsilon\n",
    "\n",
    "nominator"
   ]
  },
  {
   "cell_type": "code",
   "execution_count": 26,
   "id": "55bfa987",
   "metadata": {},
   "outputs": [
    {
     "name": "stdout",
     "output_type": "stream",
     "text": [
      "(104872, 4)\n"
     ]
    },
    {
     "data": {
      "text/plain": [
       "array([754.00000001, 751.80000001, 752.45000001, 754.00000001])"
      ]
     },
     "execution_count": 26,
     "metadata": {},
     "output_type": "execute_result"
    }
   ],
   "source": [
    "print(denominator.shape)\n",
    "denominator[-1]"
   ]
  },
  {
   "cell_type": "code",
   "execution_count": 27,
   "id": "a543f5d1",
   "metadata": {},
   "outputs": [
    {
     "name": "stdout",
     "output_type": "stream",
     "text": [
      "(104872, 8)\n"
     ]
    },
    {
     "data": {
      "text/plain": [
       "array([751.55000001, 750.70000001, 751.80000001, 751.94000001,\n",
       "       754.00000001, 751.80000001, 752.45000001, 754.00000001])"
      ]
     },
     "execution_count": 27,
     "metadata": {},
     "output_type": "execute_result"
    }
   ],
   "source": [
    "print(nominator.shape)\n",
    "nominator[-1]"
   ]
  },
  {
   "cell_type": "code",
   "execution_count": 28,
   "id": "21444232",
   "metadata": {},
   "outputs": [
    {
     "name": "stdout",
     "output_type": "stream",
     "text": [
      "(104872, 8, 4)\n"
     ]
    },
    {
     "data": {
      "text/plain": [
       "array([[751.55000001, 751.55000001, 751.55000001, 751.55000001],\n",
       "       [750.70000001, 750.70000001, 750.70000001, 750.70000001],\n",
       "       [751.80000001, 751.80000001, 751.80000001, 751.80000001],\n",
       "       [751.94000001, 751.94000001, 751.94000001, 751.94000001],\n",
       "       [754.00000001, 754.00000001, 754.00000001, 754.00000001],\n",
       "       [751.80000001, 751.80000001, 751.80000001, 751.80000001],\n",
       "       [752.45000001, 752.45000001, 752.45000001, 752.45000001],\n",
       "       [754.00000001, 754.00000001, 754.00000001, 754.00000001]])"
      ]
     },
     "execution_count": 28,
     "metadata": {},
     "output_type": "execute_result"
    }
   ],
   "source": [
    "nominator_ = np.reshape(np.repeat(nominator, 4), (-1,8,4))\n",
    "print(nominator_.shape)\n",
    "nominator_[-1]"
   ]
  },
  {
   "cell_type": "code",
   "execution_count": 29,
   "id": "ce6d7df2",
   "metadata": {},
   "outputs": [
    {
     "name": "stdout",
     "output_type": "stream",
     "text": [
      "(104872, 8, 4)\n"
     ]
    },
    {
     "data": {
      "text/plain": [
       "array([[754.00000001, 751.80000001, 752.45000001, 754.00000001],\n",
       "       [754.00000001, 751.80000001, 752.45000001, 754.00000001],\n",
       "       [754.00000001, 751.80000001, 752.45000001, 754.00000001],\n",
       "       [754.00000001, 751.80000001, 752.45000001, 754.00000001],\n",
       "       [754.00000001, 751.80000001, 752.45000001, 754.00000001],\n",
       "       [754.00000001, 751.80000001, 752.45000001, 754.00000001],\n",
       "       [754.00000001, 751.80000001, 752.45000001, 754.00000001],\n",
       "       [754.00000001, 751.80000001, 752.45000001, 754.00000001]])"
      ]
     },
     "execution_count": 29,
     "metadata": {},
     "output_type": "execute_result"
    }
   ],
   "source": [
    "denominator_ = np.tile(np.expand_dims(denominator, axis=1), (1,8,1))\n",
    "print(denominator_.shape)\n",
    "denominator_[-1]"
   ]
  },
  {
   "cell_type": "code",
   "execution_count": 30,
   "id": "50a5a2ef",
   "metadata": {},
   "outputs": [
    {
     "data": {
      "text/plain": [
       "array([[0.99675066, 0.99966746, 0.99880391, 0.99675066],\n",
       "       [0.99562334, 0.99853684, 0.99767426, 0.99562334],\n",
       "       [0.99708223, 1.        , 0.99913616, 0.99708223],\n",
       "       [0.9972679 , 1.00018622, 0.99932221, 0.9972679 ],\n",
       "       [1.        , 1.00292631, 1.00205994, 1.        ],\n",
       "       [0.99708223, 1.        , 0.99913616, 0.99708223],\n",
       "       [0.9979443 , 1.00086459, 1.        , 0.9979443 ],\n",
       "       [1.        , 1.00292631, 1.00205994, 1.        ]])"
      ]
     },
     "execution_count": 30,
     "metadata": {},
     "output_type": "execute_result"
    }
   ],
   "source": [
    "new = nominator_/denominator_\n",
    "new[-1]"
   ]
  },
  {
   "cell_type": "code",
   "execution_count": 57,
   "id": "770f6a6b",
   "metadata": {},
   "outputs": [],
   "source": [
    "import numpy as np\n",
    "from matplotlib import pyplot as plt\n",
    "from sklearn.decomposition import PCA\n",
    "from sklearn.preprocessing import StandardScaler"
   ]
  },
  {
   "cell_type": "code",
   "execution_count": 58,
   "id": "951027eb",
   "metadata": {},
   "outputs": [],
   "source": [
    "features = new.reshape(new.shape[0], -1)\n",
    "\n",
    "scaler = StandardScaler()\n",
    "scaler.fit(features)\n",
    "scaled_features = scaler.transform(features)"
   ]
  },
  {
   "cell_type": "code",
   "execution_count": 59,
   "id": "0c88ab3b",
   "metadata": {},
   "outputs": [
    {
     "data": {
      "text/plain": [
       "PCA(n_components=8)"
      ]
     },
     "execution_count": 59,
     "metadata": {},
     "output_type": "execute_result"
    }
   ],
   "source": [
    "pca = PCA(n_components=8)\n",
    "pca.fit(scaled_features)"
   ]
  },
  {
   "cell_type": "code",
   "execution_count": 60,
   "id": "85f643b2",
   "metadata": {},
   "outputs": [
    {
     "data": {
      "text/plain": [
       "array([0.44624314, 0.29808285, 0.14441729, 0.05116528, 0.02980708,\n",
       "       0.02182473, 0.00754587, 0.00065583])"
      ]
     },
     "execution_count": 60,
     "metadata": {},
     "output_type": "execute_result"
    }
   ],
   "source": [
    "pca.explained_variance_ratio_"
   ]
  },
  {
   "cell_type": "code",
   "execution_count": 61,
   "id": "a9f9f745",
   "metadata": {},
   "outputs": [
    {
     "data": {
      "text/plain": [
       "[<matplotlib.lines.Line2D at 0x1d2d6448100>]"
      ]
     },
     "execution_count": 61,
     "metadata": {},
     "output_type": "execute_result"
    },
    {
     "data": {
      "image/png": "[encoded data removed]",
      "text/plain": [
       "<Figure size 432x288 with 1 Axes>"
      ]
     },
     "metadata": {
      "needs_background": "light"
     },
     "output_type": "display_data"
    }
   ],
   "source": [
    "plt.plot(pca.explained_variance_ratio_)"
   ]
  },
  {
   "cell_type": "code",
   "execution_count": null,
   "id": "250bab95",
   "metadata": {},
   "outputs": [],
   "source": []
  }
 ],
 "metadata": {
  "kernelspec": {
   "display_name": "Python 3",
   "language": "python",
   "name": "python3"
  },
  "language_info": {
   "codemirror_mode": {
    "name": "ipython",
    "version": 3
   },
   "file_extension": ".py",
   "mimetype": "text/x-python",
   "name": "python",
   "nbconvert_exporter": "python",
   "pygments_lexer": "ipython3",
   "version": "3.8.8"
  }
 },
 "nbformat": 4,
 "nbformat_minor": 5
}
