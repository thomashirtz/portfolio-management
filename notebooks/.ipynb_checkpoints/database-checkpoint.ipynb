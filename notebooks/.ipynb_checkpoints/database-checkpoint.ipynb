{
 "cells": [
  {
   "cell_type": "code",
   "execution_count": null,
   "id": "5cd44370",
   "metadata": {},
   "outputs": [],
   "source": [
    "import sys\n",
    "from pathlib import Path\n",
    "portfolio_management_path = Path.cwd().parent\n",
    "sys.path.insert(0, str(portfolio_management_path))\n",
    "\n",
    "from binance import Client\n",
    "from portfolio_management.database.manager import Manager\n",
    "from portfolio_management.database.retrieve import get_dataframe\n",
    "from portfolio_management.database.retrieve import get_dataset"
   ]
  },
  {
   "cell_type": "code",
   "execution_count": 2,
   "id": "1a10e633",
   "metadata": {},
   "outputs": [
    {
     "name": "stdout",
     "output_type": "stream",
     "text": [
      "config saved\n",
      "\n"
     ]
    }
   ],
   "source": [
    "folder_path = 'D:\\\\Thomas\\\\GitHub\\\\portfolio-management\\\\databases'\n",
    "database_name = 'test'\n",
    "\n",
    "symbol_list = [\"ETHBTC\"]\n",
    "interval = Client.KLINE_INTERVAL_30MINUTE\n",
    "start = \"2017-11-12\"\n",
    "end = \"2017-11-14\"\n",
    "manager = Manager(\n",
    "    folder_path=folder_path,\n",
    "    database_name=database_name,\n",
    "    echo=False,\n",
    "    reset_tables=True\n",
    ")\n",
    "manager.insert(\n",
    "    symbol_list=symbol_list,\n",
    "    interval=interval,\n",
    "    start=start,\n",
    "    end=end,\n",
    ")"
   ]
  },
  {
   "cell_type": "code",
   "execution_count": null,
   "id": "9c7c5f9a",
   "metadata": {},
   "outputs": [],
   "source": [
    "dataframe = get_dataframe(\n",
    "    folder_path,\n",
    "    database_name,\n",
    "    symbol_list[0],\n",
    "    interval,\n",
    ")\n",
    "dataframe"
   ]
  },
  {
   "cell_type": "code",
   "execution_count": null,
   "id": "40fdfd2d",
   "metadata": {},
   "outputs": [],
   "source": [
    "dataset = get_dataset_(\n",
    "    folder_path=folder_path,\n",
    "    database_name=database_name,\n",
    ")\n",
    "dataset"
   ]
  }
 ],
 "metadata": {
  "kernelspec": {
   "display_name": "Python 3",
   "language": "python",
   "name": "python3"
  },
  "language_info": {
   "codemirror_mode": {
    "name": "ipython",
    "version": 3
   },
   "file_extension": ".py",
   "mimetype": "text/x-python",
   "name": "python",
   "nbconvert_exporter": "python",
   "pygments_lexer": "ipython3",
   "version": "3.8.8"
  }
 },
 "nbformat": 4,
 "nbformat_minor": 5
}
