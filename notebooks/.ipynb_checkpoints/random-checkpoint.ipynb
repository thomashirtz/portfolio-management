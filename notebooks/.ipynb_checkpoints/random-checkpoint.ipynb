{
 "cells": [
  {
   "cell_type": "markdown",
   "id": "ec468c0b",
   "metadata": {},
   "source": [
    "## Matrix"
   ]
  },
  {
   "cell_type": "code",
   "execution_count": 1,
   "id": "979080d7",
   "metadata": {},
   "outputs": [],
   "source": [
    "denominators = ['open', 'close', 'high', 'low']\n",
    "numerators = ['open', 'close', 'high', 'low', 'old_open', 'old_close', 'old_high', 'old_low']\n",
    "\n",
    "matrix = []\n",
    "for numerator in numerators:\n",
    "    row = []\n",
    "    for denominator in denominators:\n",
    "        row.append(f'{numerator}/{denominator}')\n",
    "    matrix.append(row)"
   ]
  },
  {
   "cell_type": "code",
   "execution_count": 2,
   "id": "c17dbd37",
   "metadata": {},
   "outputs": [
    {
     "name": "stdout",
     "output_type": "stream",
     "text": [
      "matrix: \n",
      "\n",
      "open/open\topen/close\topen/high\topen/low\n",
      "close/open\tclose/close\tclose/high\tclose/low\n",
      "high/open\thigh/close\thigh/high\thigh/low\n",
      "low/open\tlow/close\tlow/high\tlow/low\n",
      "old_open/open\told_open/close\told_open/high\told_open/low\n",
      "old_close/open\told_close/close\told_close/high\told_close/low\n",
      "old_high/open\told_high/close\told_high/high\told_high/low\n",
      "old_low/open\told_low/close\told_low/high\told_low/low\n"
     ]
    }
   ],
   "source": [
    "print('matrix: \\n')\n",
    "for row in matrix:\n",
    "    print(*row, sep='\\t')"
   ]
  },
  {
   "cell_type": "code",
   "execution_count": null,
   "id": "1175df33",
   "metadata": {},
   "outputs": [],
   "source": []
  }
 ],
 "metadata": {
  "kernelspec": {
   "display_name": "Python 3",
   "language": "python",
   "name": "python3"
  },
  "language_info": {
   "codemirror_mode": {
    "name": "ipython",
    "version": 3
   },
   "file_extension": ".py",
   "mimetype": "text/x-python",
   "name": "python",
   "nbconvert_exporter": "python",
   "pygments_lexer": "ipython3",
   "version": "3.8.8"
  }
 },
 "nbformat": 4,
 "nbformat_minor": 5
}
