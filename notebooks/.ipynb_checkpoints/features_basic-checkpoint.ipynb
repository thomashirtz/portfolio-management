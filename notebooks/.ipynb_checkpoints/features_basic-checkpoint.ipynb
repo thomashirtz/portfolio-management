{
 "cells": [
  {
   "cell_type": "code",
   "execution_count": 1,
   "id": "af8eefd0",
   "metadata": {},
   "outputs": [],
   "source": [
    "import sys\n",
    "from pathlib import Path\n",
    "portfolio_management_path = Path.cwd().parent\n",
    "sys.path.insert(0, str(portfolio_management_path))"
   ]
  },
  {
   "cell_type": "code",
   "execution_count": 2,
   "id": "8a2809d2",
   "metadata": {},
   "outputs": [],
   "source": [
    "import xarray as xr\n",
    "import numpy as np\n",
    "import pandas as pd"
   ]
  },
  {
   "cell_type": "code",
   "execution_count": 3,
   "id": "b13ed858",
   "metadata": {},
   "outputs": [
    {
     "name": "stdout",
     "output_type": "stream",
     "text": [
      "D:\\Thomas\\GitHub\\portfolio-management\\databases\n",
      "sqlite:///D:\\Thomas\\GitHub\\portfolio-management\\databases\\test_feature.db\n",
      "db created\n",
      "Config saved\n"
     ]
    }
   ],
   "source": [
    "from portfolio_management.database.manager import Manager\n",
    "from portfolio_management.database.retrieve import get_dataframe\n",
    "\n",
    "database_name = 'test_feature'\n",
    "\n",
    "symbol_list = [\"ETHBTC\"]\n",
    "interval = '5m'\n",
    "start = \"2021-01-01\"\n",
    "end = \"2021-03-01\"\n",
    "\n",
    "manager = Manager(\n",
    "    database_name=database_name,\n",
    "    echo=False,\n",
    "    reset_tables=True\n",
    ")\n",
    "manager.insert(\n",
    "    symbol_list=symbol_list,\n",
    "    interval=interval,\n",
    "    start=start,\n",
    "    end=end,\n",
    ")"
   ]
  },
  {
   "cell_type": "code",
   "execution_count": 4,
   "id": "bd457499",
   "metadata": {},
   "outputs": [],
   "source": [
    "df = get_dataframe(database_name='test_feature', symbol='ETHBTC', interval='5m')"
   ]
  },
  {
   "cell_type": "code",
   "execution_count": 5,
   "id": "cd4dd0db",
   "metadata": {},
   "outputs": [
    {
     "data": {
      "text/html": [
       "<div>\n",
       "<style scoped>\n",
       "    .dataframe tbody tr th:only-of-type {\n",
       "        vertical-align: middle;\n",
       "    }\n",
       "\n",
       "    .dataframe tbody tr th {\n",
       "        vertical-align: top;\n",
       "    }\n",
       "\n",
       "    .dataframe thead th {\n",
       "        text-align: right;\n",
       "    }\n",
       "</style>\n",
       "<table border=\"1\" class=\"dataframe\">\n",
       "  <thead>\n",
       "    <tr style=\"text-align: right;\">\n",
       "      <th></th>\n",
       "      <th>open</th>\n",
       "      <th>open_time</th>\n",
       "      <th>low</th>\n",
       "      <th>volume</th>\n",
       "      <th>quote_asset_volume</th>\n",
       "      <th>taker_buy_quote_asset_volume</th>\n",
       "      <th>close_time</th>\n",
       "      <th>high</th>\n",
       "      <th>close</th>\n",
       "      <th>number_of_trades</th>\n",
       "      <th>taker_buy_base_asset_volume</th>\n",
       "      <th>r_open</th>\n",
       "      <th>r_close</th>\n",
       "      <th>r_high</th>\n",
       "      <th>r_low</th>\n",
       "      <th>rto_close</th>\n",
       "      <th>rto_low</th>\n",
       "      <th>rto_high</th>\n",
       "    </tr>\n",
       "  </thead>\n",
       "  <tbody>\n",
       "    <tr>\n",
       "      <th>0</th>\n",
       "      <td>0.025464</td>\n",
       "      <td>2021-01-01 00:00:00</td>\n",
       "      <td>0.025427</td>\n",
       "      <td>1507.244</td>\n",
       "      <td>38.364181</td>\n",
       "      <td>15.995863</td>\n",
       "      <td>2021-01-01 00:05:00</td>\n",
       "      <td>0.025479</td>\n",
       "      <td>0.025436</td>\n",
       "      <td>668.0</td>\n",
       "      <td>628.523</td>\n",
       "      <td>NaN</td>\n",
       "      <td>NaN</td>\n",
       "      <td>NaN</td>\n",
       "      <td>NaN</td>\n",
       "      <td>0.998900</td>\n",
       "      <td>0.998547</td>\n",
       "      <td>1.000589</td>\n",
       "    </tr>\n",
       "    <tr>\n",
       "      <th>1</th>\n",
       "      <td>0.025440</td>\n",
       "      <td>2021-01-01 00:05:00</td>\n",
       "      <td>0.025389</td>\n",
       "      <td>860.063</td>\n",
       "      <td>21.854359</td>\n",
       "      <td>9.630976</td>\n",
       "      <td>2021-01-01 00:10:00</td>\n",
       "      <td>0.025452</td>\n",
       "      <td>0.025397</td>\n",
       "      <td>531.0</td>\n",
       "      <td>379.048</td>\n",
       "      <td>1.000943</td>\n",
       "      <td>1.001536</td>\n",
       "      <td>1.001061</td>\n",
       "      <td>1.001497</td>\n",
       "      <td>0.998310</td>\n",
       "      <td>0.997995</td>\n",
       "      <td>1.000472</td>\n",
       "    </tr>\n",
       "    <tr>\n",
       "      <th>2</th>\n",
       "      <td>0.025399</td>\n",
       "      <td>2021-01-01 00:10:00</td>\n",
       "      <td>0.025383</td>\n",
       "      <td>798.925</td>\n",
       "      <td>20.305696</td>\n",
       "      <td>9.088219</td>\n",
       "      <td>2021-01-01 00:15:00</td>\n",
       "      <td>0.025452</td>\n",
       "      <td>0.025426</td>\n",
       "      <td>736.0</td>\n",
       "      <td>357.549</td>\n",
       "      <td>1.001614</td>\n",
       "      <td>0.998859</td>\n",
       "      <td>1.000000</td>\n",
       "      <td>1.000236</td>\n",
       "      <td>1.001063</td>\n",
       "      <td>0.999370</td>\n",
       "      <td>1.002087</td>\n",
       "    </tr>\n",
       "    <tr>\n",
       "      <th>3</th>\n",
       "      <td>0.025430</td>\n",
       "      <td>2021-01-01 00:15:00</td>\n",
       "      <td>0.025375</td>\n",
       "      <td>1041.243</td>\n",
       "      <td>26.449582</td>\n",
       "      <td>7.387753</td>\n",
       "      <td>2021-01-01 00:20:00</td>\n",
       "      <td>0.025433</td>\n",
       "      <td>0.025379</td>\n",
       "      <td>612.0</td>\n",
       "      <td>290.760</td>\n",
       "      <td>0.998781</td>\n",
       "      <td>1.001852</td>\n",
       "      <td>1.000747</td>\n",
       "      <td>1.000315</td>\n",
       "      <td>0.997994</td>\n",
       "      <td>0.997837</td>\n",
       "      <td>1.000118</td>\n",
       "    </tr>\n",
       "    <tr>\n",
       "      <th>4</th>\n",
       "      <td>0.025382</td>\n",
       "      <td>2021-01-01 00:20:00</td>\n",
       "      <td>0.025366</td>\n",
       "      <td>442.481</td>\n",
       "      <td>11.229150</td>\n",
       "      <td>4.804514</td>\n",
       "      <td>2021-01-01 00:25:00</td>\n",
       "      <td>0.025396</td>\n",
       "      <td>0.025368</td>\n",
       "      <td>558.0</td>\n",
       "      <td>189.328</td>\n",
       "      <td>1.001891</td>\n",
       "      <td>1.000434</td>\n",
       "      <td>1.001457</td>\n",
       "      <td>1.000355</td>\n",
       "      <td>0.999448</td>\n",
       "      <td>0.999370</td>\n",
       "      <td>1.000552</td>\n",
       "    </tr>\n",
       "    <tr>\n",
       "      <th>...</th>\n",
       "      <td>...</td>\n",
       "      <td>...</td>\n",
       "      <td>...</td>\n",
       "      <td>...</td>\n",
       "      <td>...</td>\n",
       "      <td>...</td>\n",
       "      <td>...</td>\n",
       "      <td>...</td>\n",
       "      <td>...</td>\n",
       "      <td>...</td>\n",
       "      <td>...</td>\n",
       "      <td>...</td>\n",
       "      <td>...</td>\n",
       "      <td>...</td>\n",
       "      <td>...</td>\n",
       "      <td>...</td>\n",
       "      <td>...</td>\n",
       "      <td>...</td>\n",
       "    </tr>\n",
       "    <tr>\n",
       "      <th>16973</th>\n",
       "      <td>0.031460</td>\n",
       "      <td>2021-02-28 23:40:00</td>\n",
       "      <td>0.031372</td>\n",
       "      <td>414.093</td>\n",
       "      <td>13.013622</td>\n",
       "      <td>7.097499</td>\n",
       "      <td>2021-02-28 23:45:00</td>\n",
       "      <td>0.031494</td>\n",
       "      <td>0.031388</td>\n",
       "      <td>793.0</td>\n",
       "      <td>225.869</td>\n",
       "      <td>1.000795</td>\n",
       "      <td>1.002644</td>\n",
       "      <td>1.000349</td>\n",
       "      <td>1.001307</td>\n",
       "      <td>0.997711</td>\n",
       "      <td>0.997203</td>\n",
       "      <td>1.001081</td>\n",
       "    </tr>\n",
       "    <tr>\n",
       "      <th>16974</th>\n",
       "      <td>0.031387</td>\n",
       "      <td>2021-02-28 23:45:00</td>\n",
       "      <td>0.031339</td>\n",
       "      <td>943.247</td>\n",
       "      <td>29.610370</td>\n",
       "      <td>14.789903</td>\n",
       "      <td>2021-02-28 23:50:00</td>\n",
       "      <td>0.031445</td>\n",
       "      <td>0.031351</td>\n",
       "      <td>1131.0</td>\n",
       "      <td>471.051</td>\n",
       "      <td>1.002326</td>\n",
       "      <td>1.001180</td>\n",
       "      <td>1.001558</td>\n",
       "      <td>1.001053</td>\n",
       "      <td>0.998853</td>\n",
       "      <td>0.998471</td>\n",
       "      <td>1.001848</td>\n",
       "    </tr>\n",
       "    <tr>\n",
       "      <th>16975</th>\n",
       "      <td>0.031352</td>\n",
       "      <td>2021-02-28 23:50:00</td>\n",
       "      <td>0.031316</td>\n",
       "      <td>1061.543</td>\n",
       "      <td>33.299048</td>\n",
       "      <td>14.858739</td>\n",
       "      <td>2021-02-28 23:55:00</td>\n",
       "      <td>0.031420</td>\n",
       "      <td>0.031362</td>\n",
       "      <td>1143.0</td>\n",
       "      <td>473.565</td>\n",
       "      <td>1.001116</td>\n",
       "      <td>0.999649</td>\n",
       "      <td>1.000796</td>\n",
       "      <td>1.000734</td>\n",
       "      <td>1.000319</td>\n",
       "      <td>0.998852</td>\n",
       "      <td>1.002169</td>\n",
       "    </tr>\n",
       "    <tr>\n",
       "      <th>16976</th>\n",
       "      <td>0.031364</td>\n",
       "      <td>2021-02-28 23:55:00</td>\n",
       "      <td>0.031335</td>\n",
       "      <td>1559.008</td>\n",
       "      <td>48.959160</td>\n",
       "      <td>38.173242</td>\n",
       "      <td>2021-03-01 00:00:00</td>\n",
       "      <td>0.031440</td>\n",
       "      <td>0.031440</td>\n",
       "      <td>1050.0</td>\n",
       "      <td>1215.344</td>\n",
       "      <td>0.999617</td>\n",
       "      <td>0.997519</td>\n",
       "      <td>0.999364</td>\n",
       "      <td>0.999394</td>\n",
       "      <td>1.002423</td>\n",
       "      <td>0.999075</td>\n",
       "      <td>1.002423</td>\n",
       "    </tr>\n",
       "    <tr>\n",
       "      <th>16977</th>\n",
       "      <td>0.031441</td>\n",
       "      <td>2021-03-01 00:00:00</td>\n",
       "      <td>0.031414</td>\n",
       "      <td>1521.809</td>\n",
       "      <td>47.886707</td>\n",
       "      <td>24.815020</td>\n",
       "      <td>2021-03-01 00:05:00</td>\n",
       "      <td>0.031526</td>\n",
       "      <td>0.031415</td>\n",
       "      <td>1506.0</td>\n",
       "      <td>788.685</td>\n",
       "      <td>0.997551</td>\n",
       "      <td>1.000796</td>\n",
       "      <td>0.997272</td>\n",
       "      <td>0.997485</td>\n",
       "      <td>0.999173</td>\n",
       "      <td>0.999141</td>\n",
       "      <td>1.002703</td>\n",
       "    </tr>\n",
       "  </tbody>\n",
       "</table>\n",
       "<p>16978 rows × 18 columns</p>\n",
       "</div>"
      ],
      "text/plain": [
       "           open           open_time       low    volume  quote_asset_volume  \\\n",
       "0      0.025464 2021-01-01 00:00:00  0.025427  1507.244           38.364181   \n",
       "1      0.025440 2021-01-01 00:05:00  0.025389   860.063           21.854359   \n",
       "2      0.025399 2021-01-01 00:10:00  0.025383   798.925           20.305696   \n",
       "3      0.025430 2021-01-01 00:15:00  0.025375  1041.243           26.449582   \n",
       "4      0.025382 2021-01-01 00:20:00  0.025366   442.481           11.229150   \n",
       "...         ...                 ...       ...       ...                 ...   \n",
       "16973  0.031460 2021-02-28 23:40:00  0.031372   414.093           13.013622   \n",
       "16974  0.031387 2021-02-28 23:45:00  0.031339   943.247           29.610370   \n",
       "16975  0.031352 2021-02-28 23:50:00  0.031316  1061.543           33.299048   \n",
       "16976  0.031364 2021-02-28 23:55:00  0.031335  1559.008           48.959160   \n",
       "16977  0.031441 2021-03-01 00:00:00  0.031414  1521.809           47.886707   \n",
       "\n",
       "       taker_buy_quote_asset_volume          close_time      high     close  \\\n",
       "0                         15.995863 2021-01-01 00:05:00  0.025479  0.025436   \n",
       "1                          9.630976 2021-01-01 00:10:00  0.025452  0.025397   \n",
       "2                          9.088219 2021-01-01 00:15:00  0.025452  0.025426   \n",
       "3                          7.387753 2021-01-01 00:20:00  0.025433  0.025379   \n",
       "4                          4.804514 2021-01-01 00:25:00  0.025396  0.025368   \n",
       "...                             ...                 ...       ...       ...   \n",
       "16973                      7.097499 2021-02-28 23:45:00  0.031494  0.031388   \n",
       "16974                     14.789903 2021-02-28 23:50:00  0.031445  0.031351   \n",
       "16975                     14.858739 2021-02-28 23:55:00  0.031420  0.031362   \n",
       "16976                     38.173242 2021-03-01 00:00:00  0.031440  0.031440   \n",
       "16977                     24.815020 2021-03-01 00:05:00  0.031526  0.031415   \n",
       "\n",
       "       number_of_trades  taker_buy_base_asset_volume    r_open   r_close  \\\n",
       "0                 668.0                      628.523       NaN       NaN   \n",
       "1                 531.0                      379.048  1.000943  1.001536   \n",
       "2                 736.0                      357.549  1.001614  0.998859   \n",
       "3                 612.0                      290.760  0.998781  1.001852   \n",
       "4                 558.0                      189.328  1.001891  1.000434   \n",
       "...                 ...                          ...       ...       ...   \n",
       "16973             793.0                      225.869  1.000795  1.002644   \n",
       "16974            1131.0                      471.051  1.002326  1.001180   \n",
       "16975            1143.0                      473.565  1.001116  0.999649   \n",
       "16976            1050.0                     1215.344  0.999617  0.997519   \n",
       "16977            1506.0                      788.685  0.997551  1.000796   \n",
       "\n",
       "         r_high     r_low  rto_close   rto_low  rto_high  \n",
       "0           NaN       NaN   0.998900  0.998547  1.000589  \n",
       "1      1.001061  1.001497   0.998310  0.997995  1.000472  \n",
       "2      1.000000  1.000236   1.001063  0.999370  1.002087  \n",
       "3      1.000747  1.000315   0.997994  0.997837  1.000118  \n",
       "4      1.001457  1.000355   0.999448  0.999370  1.000552  \n",
       "...         ...       ...        ...       ...       ...  \n",
       "16973  1.000349  1.001307   0.997711  0.997203  1.001081  \n",
       "16974  1.001558  1.001053   0.998853  0.998471  1.001848  \n",
       "16975  1.000796  1.000734   1.000319  0.998852  1.002169  \n",
       "16976  0.999364  0.999394   1.002423  0.999075  1.002423  \n",
       "16977  0.997272  0.997485   0.999173  0.999141  1.002703  \n",
       "\n",
       "[16978 rows x 18 columns]"
      ]
     },
     "execution_count": 5,
     "metadata": {},
     "output_type": "execute_result"
    }
   ],
   "source": [
    "def get_relative_change(value):\n",
    "    return value.shift(1)/value\n",
    "\n",
    "def get_relative_to(value, reference):\n",
    "    return value/reference\n",
    "\n",
    "# relative change\n",
    "df['r_open'] = get_relative_change(df['open'])\n",
    "df['r_close'] = get_relative_change(df['close'])\n",
    "df['r_high'] = get_relative_change(df['high'])\n",
    "df['r_low'] = get_relative_change(df['low'])\n",
    "\n",
    "# relative to open\n",
    "df['rto_close'] = get_relative_to(df['close'], df['open'])\n",
    "df['rto_low'] = get_relative_to(df['low'], df['open'])\n",
    "df['rto_high'] = get_relative_to(df['high'], df['open'])\n",
    "\n",
    "df"
   ]
  },
  {
   "cell_type": "code",
   "execution_count": null,
   "id": "30fcbe6c",
   "metadata": {},
   "outputs": [],
   "source": []
  },
  {
   "cell_type": "code",
   "execution_count": 28,
   "id": "b5730174",
   "metadata": {},
   "outputs": [],
   "source": [
    "import numpy as np\n",
    "from matplotlib import pyplot as plt\n",
    "from sklearn.decomposition import PCA\n",
    "from sklearn.preprocessing import StandardScaler\n",
    "\n",
    "def get_PCA(df, epsilon=10e-9, pca_num_componants=5, means=None, stds=None, pca_components=None):\n",
    "    df[['open_s', 'low_s', 'close_s', 'high_s']] = df[['open', 'low', 'close', 'high']].shift(1)\n",
    "    nominator = np.array(df[['open_s', 'low_s', 'close_s', 'high_s', 'open', 'low', 'close', 'high']])\n",
    "    denominator = np.array(df[['open', 'low', 'close', 'high']])\n",
    "    \n",
    "    nominator = np.nan_to_num(nominator, nan=0.0)\n",
    "    denominator = np.nan_to_num(denominator, nan=0.0)\n",
    "    \n",
    "    epsilon = 10e-9\n",
    "    nominator = nominator + epsilon\n",
    "    denominator = denominator + epsilon\n",
    "    \n",
    "    nominator_ = np.reshape(np.repeat(nominator, 4), (-1,8,4))\n",
    "    denominator_ = np.tile(np.expand_dims(denominator, axis=1), (1,8,1))\n",
    "    new = nominator_/denominator_\n",
    "    \n",
    "    features = new.reshape(new.shape[0], -1)\n",
    "\n",
    "    scaler = StandardScaler() # todo find what to do with the scaler, mean std all data, put in config file\n",
    "    scaler.fit(features)\n",
    "    scaled_features = scaler.transform(features)\n",
    "\n",
    "    pca = PCA(n_components=pca_num_componants) # todo idem for PCA\n",
    "    pca.fit(scaled_features)\n",
    "    \n",
    "    data = pca.transform(scaled_features)\n",
    "    columns = [f'pca_{i}' for i in range(pca_num_componants)]\n",
    "    return pd.DataFrame(data, columns=columns)"
   ]
  },
  {
   "cell_type": "code",
   "execution_count": 29,
   "id": "7cda26a1",
   "metadata": {},
   "outputs": [
    {
     "data": {
      "text/html": [
       "<div>\n",
       "<style scoped>\n",
       "    .dataframe tbody tr th:only-of-type {\n",
       "        vertical-align: middle;\n",
       "    }\n",
       "\n",
       "    .dataframe tbody tr th {\n",
       "        vertical-align: top;\n",
       "    }\n",
       "\n",
       "    .dataframe thead th {\n",
       "        text-align: right;\n",
       "    }\n",
       "</style>\n",
       "<table border=\"1\" class=\"dataframe\">\n",
       "  <thead>\n",
       "    <tr style=\"text-align: right;\">\n",
       "      <th></th>\n",
       "      <th>pca_0</th>\n",
       "      <th>pca_1</th>\n",
       "      <th>pca_2</th>\n",
       "      <th>pca_3</th>\n",
       "      <th>pca_4</th>\n",
       "    </tr>\n",
       "  </thead>\n",
       "  <tbody>\n",
       "    <tr>\n",
       "      <th>0</th>\n",
       "      <td>481.735925</td>\n",
       "      <td>1.987017</td>\n",
       "      <td>80.837315</td>\n",
       "      <td>-8.819828</td>\n",
       "      <td>10.124862</td>\n",
       "    </tr>\n",
       "    <tr>\n",
       "      <th>1</th>\n",
       "      <td>-0.846980</td>\n",
       "      <td>-1.211041</td>\n",
       "      <td>1.304670</td>\n",
       "      <td>0.148168</td>\n",
       "      <td>0.202951</td>\n",
       "    </tr>\n",
       "    <tr>\n",
       "      <th>2</th>\n",
       "      <td>0.044230</td>\n",
       "      <td>-0.920420</td>\n",
       "      <td>-0.950002</td>\n",
       "      <td>0.191512</td>\n",
       "      <td>0.304253</td>\n",
       "    </tr>\n",
       "    <tr>\n",
       "      <th>3</th>\n",
       "      <td>-0.494430</td>\n",
       "      <td>-1.370561</td>\n",
       "      <td>1.635661</td>\n",
       "      <td>0.023002</td>\n",
       "      <td>-0.170745</td>\n",
       "    </tr>\n",
       "    <tr>\n",
       "      <th>4</th>\n",
       "      <td>-0.567488</td>\n",
       "      <td>-2.276641</td>\n",
       "      <td>0.312585</td>\n",
       "      <td>0.255709</td>\n",
       "      <td>0.360461</td>\n",
       "    </tr>\n",
       "    <tr>\n",
       "      <th>...</th>\n",
       "      <td>...</td>\n",
       "      <td>...</td>\n",
       "      <td>...</td>\n",
       "      <td>...</td>\n",
       "      <td>...</td>\n",
       "    </tr>\n",
       "    <tr>\n",
       "      <th>16973</th>\n",
       "      <td>-0.945344</td>\n",
       "      <td>-0.018115</td>\n",
       "      <td>1.853703</td>\n",
       "      <td>0.516907</td>\n",
       "      <td>0.096115</td>\n",
       "    </tr>\n",
       "    <tr>\n",
       "      <th>16974</th>\n",
       "      <td>-0.894282</td>\n",
       "      <td>-0.399729</td>\n",
       "      <td>0.841575</td>\n",
       "      <td>1.051016</td>\n",
       "      <td>0.415994</td>\n",
       "    </tr>\n",
       "    <tr>\n",
       "      <th>16975</th>\n",
       "      <td>-0.250028</td>\n",
       "      <td>-0.415654</td>\n",
       "      <td>-0.331314</td>\n",
       "      <td>0.463428</td>\n",
       "      <td>0.208055</td>\n",
       "    </tr>\n",
       "    <tr>\n",
       "      <th>16976</th>\n",
       "      <td>0.776973</td>\n",
       "      <td>-0.320123</td>\n",
       "      <td>-1.988653</td>\n",
       "      <td>-0.738181</td>\n",
       "      <td>-0.071664</td>\n",
       "    </tr>\n",
       "    <tr>\n",
       "      <th>16977</th>\n",
       "      <td>0.712220</td>\n",
       "      <td>-0.246169</td>\n",
       "      <td>0.830597</td>\n",
       "      <td>1.863775</td>\n",
       "      <td>-0.334860</td>\n",
       "    </tr>\n",
       "  </tbody>\n",
       "</table>\n",
       "<p>16978 rows × 5 columns</p>\n",
       "</div>"
      ],
      "text/plain": [
       "            pca_0     pca_1      pca_2     pca_3      pca_4\n",
       "0      481.735925  1.987017  80.837315 -8.819828  10.124862\n",
       "1       -0.846980 -1.211041   1.304670  0.148168   0.202951\n",
       "2        0.044230 -0.920420  -0.950002  0.191512   0.304253\n",
       "3       -0.494430 -1.370561   1.635661  0.023002  -0.170745\n",
       "4       -0.567488 -2.276641   0.312585  0.255709   0.360461\n",
       "...           ...       ...        ...       ...        ...\n",
       "16973   -0.945344 -0.018115   1.853703  0.516907   0.096115\n",
       "16974   -0.894282 -0.399729   0.841575  1.051016   0.415994\n",
       "16975   -0.250028 -0.415654  -0.331314  0.463428   0.208055\n",
       "16976    0.776973 -0.320123  -1.988653 -0.738181  -0.071664\n",
       "16977    0.712220 -0.246169   0.830597  1.863775  -0.334860\n",
       "\n",
       "[16978 rows x 5 columns]"
      ]
     },
     "execution_count": 29,
     "metadata": {},
     "output_type": "execute_result"
    }
   ],
   "source": [
    "get_PCA(df)"
   ]
  },
  {
   "cell_type": "code",
   "execution_count": 7,
   "id": "bf7aa0b6",
   "metadata": {},
   "outputs": [
    {
     "data": {
      "text/plain": [
       "array([[1.000000e-08, 1.000000e-08, 1.000000e-08, ..., 2.542701e-02,\n",
       "        2.543601e-02, 2.547901e-02],\n",
       "       [2.546401e-02, 2.542701e-02, 2.543601e-02, ..., 2.538901e-02,\n",
       "        2.539701e-02, 2.545201e-02],\n",
       "       [2.544001e-02, 2.538901e-02, 2.539701e-02, ..., 2.538301e-02,\n",
       "        2.542601e-02, 2.545201e-02],\n",
       "       ...,\n",
       "       [3.138701e-02, 3.133901e-02, 3.135101e-02, ..., 3.131601e-02,\n",
       "        3.136201e-02, 3.142001e-02],\n",
       "       [3.135201e-02, 3.131601e-02, 3.136201e-02, ..., 3.133501e-02,\n",
       "        3.144001e-02, 3.144001e-02],\n",
       "       [3.136401e-02, 3.133501e-02, 3.144001e-02, ..., 3.141401e-02,\n",
       "        3.141501e-02, 3.152601e-02]])"
      ]
     },
     "execution_count": 7,
     "metadata": {},
     "output_type": "execute_result"
    }
   ],
   "source": [
    "df[['open_s', 'low_s', 'close_s', 'high_s']] = df[['open', 'low', 'close', 'high']].shift(1)\n",
    "nominator = np.array(df[['open_s', 'low_s', 'close_s', 'high_s', 'open', 'low', 'close', 'high']])\n",
    "denominator = np.array(df[['open', 'low', 'close', 'high']])\n",
    "\n",
    "nominator = np.nan_to_num(nominator, nan=0.0)\n",
    "denominator = np.nan_to_num(denominator, nan=0.0)\n",
    "\n",
    "epsilon = 10e-9\n",
    "nominator = nominator + epsilon\n",
    "denominator = denominator + epsilon\n",
    "\n",
    "nominator"
   ]
  },
  {
   "cell_type": "code",
   "execution_count": 8,
   "id": "8d3dc9ab",
   "metadata": {},
   "outputs": [
    {
     "name": "stdout",
     "output_type": "stream",
     "text": [
      "(16978, 4)\n"
     ]
    },
    {
     "data": {
      "text/plain": [
       "array([0.03144101, 0.03141401, 0.03141501, 0.03152601])"
      ]
     },
     "execution_count": 8,
     "metadata": {},
     "output_type": "execute_result"
    }
   ],
   "source": [
    "print(denominator.shape)\n",
    "denominator[-1]"
   ]
  },
  {
   "cell_type": "code",
   "execution_count": 9,
   "id": "f3ef7cc3",
   "metadata": {},
   "outputs": [
    {
     "name": "stdout",
     "output_type": "stream",
     "text": [
      "(16978, 8)\n"
     ]
    },
    {
     "data": {
      "text/plain": [
       "array([0.03136401, 0.03133501, 0.03144001, 0.03144001, 0.03144101,\n",
       "       0.03141401, 0.03141501, 0.03152601])"
      ]
     },
     "execution_count": 9,
     "metadata": {},
     "output_type": "execute_result"
    }
   ],
   "source": [
    "print(nominator.shape)\n",
    "nominator[-1]"
   ]
  },
  {
   "cell_type": "code",
   "execution_count": 10,
   "id": "00bde81e",
   "metadata": {},
   "outputs": [
    {
     "name": "stdout",
     "output_type": "stream",
     "text": [
      "(16978, 8, 4)\n"
     ]
    },
    {
     "data": {
      "text/plain": [
       "array([[0.03136401, 0.03136401, 0.03136401, 0.03136401],\n",
       "       [0.03133501, 0.03133501, 0.03133501, 0.03133501],\n",
       "       [0.03144001, 0.03144001, 0.03144001, 0.03144001],\n",
       "       [0.03144001, 0.03144001, 0.03144001, 0.03144001],\n",
       "       [0.03144101, 0.03144101, 0.03144101, 0.03144101],\n",
       "       [0.03141401, 0.03141401, 0.03141401, 0.03141401],\n",
       "       [0.03141501, 0.03141501, 0.03141501, 0.03141501],\n",
       "       [0.03152601, 0.03152601, 0.03152601, 0.03152601]])"
      ]
     },
     "execution_count": 10,
     "metadata": {},
     "output_type": "execute_result"
    }
   ],
   "source": [
    "nominator_ = np.reshape(np.repeat(nominator, 4), (-1,8,4))\n",
    "print(nominator_.shape)\n",
    "nominator_[-1]"
   ]
  },
  {
   "cell_type": "code",
   "execution_count": 11,
   "id": "e68e2598",
   "metadata": {},
   "outputs": [
    {
     "name": "stdout",
     "output_type": "stream",
     "text": [
      "(16978, 8, 4)\n"
     ]
    },
    {
     "data": {
      "text/plain": [
       "array([[0.03144101, 0.03141401, 0.03141501, 0.03152601],\n",
       "       [0.03144101, 0.03141401, 0.03141501, 0.03152601],\n",
       "       [0.03144101, 0.03141401, 0.03141501, 0.03152601],\n",
       "       [0.03144101, 0.03141401, 0.03141501, 0.03152601],\n",
       "       [0.03144101, 0.03141401, 0.03141501, 0.03152601],\n",
       "       [0.03144101, 0.03141401, 0.03141501, 0.03152601],\n",
       "       [0.03144101, 0.03141401, 0.03141501, 0.03152601],\n",
       "       [0.03144101, 0.03141401, 0.03141501, 0.03152601]])"
      ]
     },
     "execution_count": 11,
     "metadata": {},
     "output_type": "execute_result"
    }
   ],
   "source": [
    "denominator_ = np.tile(np.expand_dims(denominator, axis=1), (1,8,1))\n",
    "print(denominator_.shape)\n",
    "denominator_[-1]"
   ]
  },
  {
   "cell_type": "code",
   "execution_count": 12,
   "id": "27b0f2c1",
   "metadata": {},
   "outputs": [
    {
     "data": {
      "text/plain": [
       "array([[0.99755097, 0.99840835, 0.99837657, 0.99486139],\n",
       "       [0.99662861, 0.9974852 , 0.99745345, 0.99394151],\n",
       "       [0.99996819, 1.00082766, 1.0007958 , 0.99727209],\n",
       "       [0.99996819, 1.00082766, 1.0007958 , 0.99727209],\n",
       "       [1.        , 1.00085949, 1.00082763, 0.99730381],\n",
       "       [0.99914125, 1.        , 0.99996817, 0.99644738],\n",
       "       [0.99917305, 1.00003183, 1.        , 0.9964791 ],\n",
       "       [1.00270348, 1.00356529, 1.00353334, 1.        ]])"
      ]
     },
     "execution_count": 12,
     "metadata": {},
     "output_type": "execute_result"
    }
   ],
   "source": [
    "new = nominator_/denominator_\n",
    "new[-1]"
   ]
  },
  {
   "cell_type": "code",
   "execution_count": 13,
   "id": "bfea45c1",
   "metadata": {},
   "outputs": [],
   "source": [
    "import numpy as np\n",
    "from matplotlib import pyplot as plt\n",
    "from sklearn.decomposition import PCA\n",
    "from sklearn.preprocessing import StandardScaler"
   ]
  },
  {
   "cell_type": "code",
   "execution_count": 14,
   "id": "a8552dec",
   "metadata": {},
   "outputs": [],
   "source": [
    "features = new.reshape(new.shape[0], -1)\n",
    "\n",
    "scaler = StandardScaler()\n",
    "scaler.fit(features)\n",
    "scaled_features = scaler.transform(features)"
   ]
  },
  {
   "cell_type": "code",
   "execution_count": 15,
   "id": "0f2862ab",
   "metadata": {},
   "outputs": [
    {
     "name": "stdout",
     "output_type": "stream",
     "text": [
      "pca.components_.shape=(8, 32)\n",
      "scaled_features.shape=(16978, 32)\n"
     ]
    }
   ],
   "source": [
    "pca = PCA(n_components=8)\n",
    "pca.fit(scaled_features)\n",
    "print(f'{pca.components_.shape=}')\n",
    "print(f'{scaled_features.shape=}')"
   ]
  },
  {
   "cell_type": "code",
   "execution_count": 16,
   "id": "57f2f2fe",
   "metadata": {},
   "outputs": [
    {
     "data": {
      "text/plain": [
       "array([5.46176221e-01, 2.08494338e-01, 1.91910212e-01, 3.91773561e-02,\n",
       "       7.80777388e-03, 5.17702012e-03, 1.24886927e-03, 4.11483814e-06])"
      ]
     },
     "execution_count": 16,
     "metadata": {},
     "output_type": "execute_result"
    }
   ],
   "source": [
    "pca.explained_variance_ratio_"
   ]
  },
  {
   "cell_type": "code",
   "execution_count": 17,
   "id": "9c4d31fe",
   "metadata": {},
   "outputs": [],
   "source": [
    "plt.rcParams['figure.figsize'] = [10, 7]"
   ]
  },
  {
   "cell_type": "code",
   "execution_count": 18,
   "id": "0934e824",
   "metadata": {},
   "outputs": [
    {
     "data": {
      "text/plain": [
       "(16978, 32)"
      ]
     },
     "execution_count": 18,
     "metadata": {},
     "output_type": "execute_result"
    }
   ],
   "source": [
    "scaled_features.shape"
   ]
  },
  {
   "cell_type": "code",
   "execution_count": 19,
   "id": "3fc5455b",
   "metadata": {},
   "outputs": [
    {
     "data": {
      "image/png": "[encoded data removed]",
      "text/plain": [
       "<Figure size 720x504 with 1 Axes>"
      ]
     },
     "metadata": {
      "needs_background": "light"
     },
     "output_type": "display_data"
    }
   ],
   "source": [
    "plt.plot(range(1, len(pca.explained_variance_ratio_)+1), np.cumsum(pca.explained_variance_ratio_), color='r')\n",
    "plt.xlabel('number of components')\n",
    "plt.ylabel('cumulative explained variance')\n",
    "plt.grid(color='k', linestyle='-', linewidth=0.5)"
   ]
  },
  {
   "cell_type": "code",
   "execution_count": 20,
   "id": "1a9b8864",
   "metadata": {},
   "outputs": [
    {
     "data": {
      "image/png": "[encoded data removed]",
      "text/plain": [
       "<Figure size 720x504 with 1 Axes>"
      ]
     },
     "metadata": {
      "needs_background": "light"
     },
     "output_type": "display_data"
    }
   ],
   "source": [
    "plt.plot(range(1, len(pca.explained_variance_ratio_)+1), pca.explained_variance_ratio_, color='r')\n",
    "plt.grid(color='k', linestyle='-', linewidth=0.5)"
   ]
  },
  {
   "cell_type": "code",
   "execution_count": null,
   "id": "0d1be67a",
   "metadata": {},
   "outputs": [],
   "source": []
  },
  {
   "cell_type": "code",
   "execution_count": 21,
   "id": "0c7ee393",
   "metadata": {},
   "outputs": [
    {
     "data": {
      "text/plain": [
       "array([[-2.42066527e-01, -2.46628506e-01, -2.51338337e-01,\n",
       "        -2.47073205e-01, -2.41502820e-01, -2.51251111e-01,\n",
       "        -2.50401836e-01, -2.42244949e-01, -2.41745476e-01,\n",
       "        -2.47245173e-01, -2.51043210e-01, -2.46739344e-01,\n",
       "        -2.42107018e-01, -2.42966279e-01, -2.51532605e-01,\n",
       "        -2.51166604e-01,  0.00000000e+00, -5.43794538e-02,\n",
       "        -6.87696041e-02, -5.03435716e-02,  5.44252378e-02,\n",
       "        -0.00000000e+00, -3.25148256e-02,  5.05425199e-03,\n",
       "         6.87496150e-02,  3.25005795e-02, -0.00000000e+00,\n",
       "         4.15275037e-02,  5.02979998e-02, -5.09564595e-03,\n",
       "        -4.15081636e-02, -0.00000000e+00],\n",
       "       [ 1.91959595e-03,  7.19760951e-02, -2.41910559e-03,\n",
       "        -6.48737942e-02, -4.78915530e-02,  2.60551692e-02,\n",
       "        -4.95284559e-02, -1.12363092e-01, -2.81562021e-03,\n",
       "         7.16643721e-02, -7.19784976e-03, -7.33480001e-02,\n",
       "         4.25423321e-02,  1.11230330e-01,  3.58204548e-02,\n",
       "        -2.80344991e-02, -0.00000000e+00,  2.66796435e-01,\n",
       "        -1.34737013e-02, -2.66809142e-01, -2.66254171e-01,\n",
       "        -0.00000000e+00, -2.99826550e-01, -4.13535007e-01,\n",
       "         1.62233054e-02,  3.00179031e-01, -0.00000000e+00,\n",
       "        -2.63011138e-01,  2.67229259e-01,  4.13529150e-01,\n",
       "         2.63463442e-01, -0.00000000e+00],\n",
       "       [-1.13973586e-01, -3.57361454e-02,  2.45996792e-02,\n",
       "        -4.09981630e-02, -1.13608946e-01, -3.44063967e-02,\n",
       "         2.78497897e-02, -3.83344510e-02, -1.15546864e-01,\n",
       "        -3.27263923e-02,  3.11497829e-02, -3.80774300e-02,\n",
       "        -1.14135509e-01, -3.31547324e-02,  2.83036020e-02,\n",
       "        -3.96846104e-02, -0.00000000e+00,  2.80554194e-01,\n",
       "         4.15257059e-01,  2.77594646e-01, -2.80998083e-01,\n",
       "        -0.00000000e+00,  2.46662873e-01, -1.27155803e-02,\n",
       "        -4.15159326e-01, -2.46453015e-01, -0.00000000e+00,\n",
       "        -2.78934385e-01, -2.77275239e-01,  1.28408161e-02,\n",
       "         2.78652786e-01, -0.00000000e+00],\n",
       "       [ 3.65223505e-02, -5.04965222e-02,  3.55310518e-02,\n",
       "        -5.11090911e-02,  5.12067615e-02, -3.89488371e-02,\n",
       "         4.93171727e-02, -3.81503292e-02,  6.16418824e-02,\n",
       "        -3.14974537e-02,  5.90900587e-02, -3.21093087e-02,\n",
       "         4.97598670e-02, -3.96061501e-02,  4.79815005e-02,\n",
       "        -4.14980140e-02,  0.00000000e+00, -3.25304964e-01,\n",
       "         2.93476255e-03, -3.46124482e-01,  3.25686479e-01,\n",
       "         0.00000000e+00,  3.46691442e-01, -3.64029992e-03,\n",
       "        -2.49406650e-03, -3.45801628e-01,  0.00000000e+00,\n",
       "        -3.71674190e-01,  3.45718355e-01,  3.51792978e-03,\n",
       "         3.71021787e-01,  0.00000000e+00],\n",
       "       [ 3.72544402e-01,  3.57061434e-01,  3.52870203e-01,\n",
       "         3.56464316e-01,  1.14836634e-02,  9.65611289e-03,\n",
       "         1.10409295e-02,  7.60985834e-03, -3.56454607e-01,\n",
       "        -3.44599741e-01, -3.35423687e-01, -3.46640475e-01,\n",
       "        -2.36109857e-02, -2.36949194e-02, -2.21832399e-02,\n",
       "        -2.67346625e-02,  0.00000000e+00, -8.55289134e-03,\n",
       "         1.58972002e-03, -9.37723655e-03,  1.00048641e-02,\n",
       "         0.00000000e+00,  1.20238354e-02,  1.05031006e-03,\n",
       "        -1.71113297e-03, -1.18236408e-02,  0.00000000e+00,\n",
       "        -1.17681001e-02,  9.04608862e-03,  2.73106768e-04,\n",
       "         1.23643588e-02,  0.00000000e+00],\n",
       "       [ 3.18276992e-02,  2.15700204e-02,  2.98054784e-02,\n",
       "         3.79688362e-02, -3.75405631e-01, -3.77742828e-01,\n",
       "        -3.54184324e-01, -3.48317168e-01, -1.88679064e-03,\n",
       "        -1.13302420e-02, -1.68462178e-03,  6.17003237e-03,\n",
       "         3.47322796e-01,  3.19641316e-01,  3.28105961e-01,\n",
       "         3.48095114e-01,  0.00000000e+00, -3.41147949e-02,\n",
       "         2.64852145e-04,  3.01315194e-02,  3.30739561e-02,\n",
       "        -0.00000000e+00,  3.74279260e-02,  5.00218790e-02,\n",
       "        -3.68976459e-03, -3.84686812e-02, -0.00000000e+00,\n",
       "         2.99903584e-02, -3.22439396e-02, -5.04870645e-02,\n",
       "        -3.08356172e-02, -0.00000000e+00],\n",
       "       [-2.45986082e-01, -2.36322256e-01, -2.33600318e-01,\n",
       "        -2.38184829e-01,  2.38006247e-01,  2.33541734e-01,\n",
       "         2.23591979e-01,  2.25048544e-01, -2.69133314e-01,\n",
       "        -2.58397225e-01, -2.53897867e-01, -2.59632016e-01,\n",
       "         2.77933616e-01,  2.63519800e-01,  2.62114902e-01,\n",
       "         2.72083070e-01, -0.00000000e+00, -3.46916370e-05,\n",
       "        -7.56436230e-04,  7.50971650e-04,  7.25795590e-04,\n",
       "        -0.00000000e+00, -1.63082405e-04,  1.34046779e-03,\n",
       "        -2.04260965e-04, -2.37686138e-04, -0.00000000e+00,\n",
       "         1.39226213e-03, -1.80974320e-03, -1.19523458e-03,\n",
       "        -2.09233332e-03, -0.00000000e+00],\n",
       "       [-6.45592707e-02,  3.76227206e-02,  2.90677992e-02,\n",
       "        -9.62980821e-04, -5.20858310e-02, -1.29524510e-02,\n",
       "         2.12815133e-02,  4.44390646e-02, -5.12733148e-02,\n",
       "         2.32402232e-02,  2.13486099e-02,  1.02873363e-02,\n",
       "        -5.89576686e-02,  6.79768693e-02,  2.80023570e-02,\n",
       "        -2.90640501e-02, -2.52435490e-29,  2.61606040e-01,\n",
       "         2.05931940e-01,  2.23994411e-01,  2.87886819e-01,\n",
       "         0.00000000e+00,  2.01752805e-01,  4.64955925e-01,\n",
       "         2.27509728e-01,  2.00036363e-01,  0.00000000e+00,\n",
       "         2.42742838e-01,  2.42705621e-01,  4.58355735e-01,\n",
       "         2.33076069e-01,  0.00000000e+00]])"
      ]
     },
     "execution_count": 21,
     "metadata": {},
     "output_type": "execute_result"
    }
   ],
   "source": [
    "pca.components_"
   ]
  },
  {
   "cell_type": "code",
   "execution_count": 22,
   "id": "b7298653",
   "metadata": {},
   "outputs": [
    {
     "data": {
      "text/plain": [
       "array([[ 4.81735925e+02,  1.98701668e+00,  8.08373145e+01, ...,\n",
       "         1.03427624e-02,  1.20868359e+00,  3.45781964e-04],\n",
       "       [-8.46979737e-01, -1.21104085e+00,  1.30467048e+00, ...,\n",
       "        -1.45483452e-01,  2.50041667e-02,  2.26156153e-03],\n",
       "       [ 4.42296907e-02, -9.20419917e-01, -9.50001996e-01, ...,\n",
       "        -1.00731048e-01,  2.72625405e-02,  1.04317018e-03],\n",
       "       ...,\n",
       "       [-2.50028218e-01, -4.15654348e-01, -3.31313762e-01, ...,\n",
       "        -2.01649961e-02,  1.87710141e-01, -1.86085851e-03],\n",
       "       [ 7.76972930e-01, -3.20123390e-01, -1.98865339e+00, ...,\n",
       "        -5.37880320e-02,  8.63893845e-02, -3.33187413e-04],\n",
       "       [ 7.12219545e-01, -2.46169438e-01,  8.30596956e-01, ...,\n",
       "        -5.22637060e-02, -1.37063329e-01, -1.81368312e-03]])"
      ]
     },
     "execution_count": 22,
     "metadata": {},
     "output_type": "execute_result"
    }
   ],
   "source": [
    "pca.transform(scaled_features)"
   ]
  },
  {
   "cell_type": "code",
   "execution_count": 25,
   "id": "401c9f85",
   "metadata": {},
   "outputs": [
    {
     "data": {
      "text/html": [
       "<div>\n",
       "<style scoped>\n",
       "    .dataframe tbody tr th:only-of-type {\n",
       "        vertical-align: middle;\n",
       "    }\n",
       "\n",
       "    .dataframe tbody tr th {\n",
       "        vertical-align: top;\n",
       "    }\n",
       "\n",
       "    .dataframe thead th {\n",
       "        text-align: right;\n",
       "    }\n",
       "</style>\n",
       "<table border=\"1\" class=\"dataframe\">\n",
       "  <thead>\n",
       "    <tr style=\"text-align: right;\">\n",
       "      <th></th>\n",
       "      <th>pca_0</th>\n",
       "      <th>pca_1</th>\n",
       "      <th>pca_2</th>\n",
       "      <th>pca_3</th>\n",
       "      <th>pca_4</th>\n",
       "      <th>pca_5</th>\n",
       "      <th>pca_6</th>\n",
       "      <th>pca_7</th>\n",
       "    </tr>\n",
       "  </thead>\n",
       "  <tbody>\n",
       "    <tr>\n",
       "      <th>count</th>\n",
       "      <td>1.697800e+04</td>\n",
       "      <td>1.697800e+04</td>\n",
       "      <td>1.697800e+04</td>\n",
       "      <td>1.697800e+04</td>\n",
       "      <td>1.697800e+04</td>\n",
       "      <td>1.697800e+04</td>\n",
       "      <td>1.697800e+04</td>\n",
       "      <td>1.697800e+04</td>\n",
       "    </tr>\n",
       "    <tr>\n",
       "      <th>mean</th>\n",
       "      <td>-9.251641e-17</td>\n",
       "      <td>1.133733e-15</td>\n",
       "      <td>-1.114487e-15</td>\n",
       "      <td>1.205002e-15</td>\n",
       "      <td>-8.748777e-17</td>\n",
       "      <td>-4.389723e-16</td>\n",
       "      <td>-1.064530e-16</td>\n",
       "      <td>4.644559e-16</td>\n",
       "    </tr>\n",
       "    <tr>\n",
       "      <th>std</th>\n",
       "      <td>3.910733e+00</td>\n",
       "      <td>2.416234e+00</td>\n",
       "      <td>2.318146e+00</td>\n",
       "      <td>1.047392e+00</td>\n",
       "      <td>4.675795e-01</td>\n",
       "      <td>3.807428e-01</td>\n",
       "      <td>1.870037e-01</td>\n",
       "      <td>1.073416e-02</td>\n",
       "    </tr>\n",
       "    <tr>\n",
       "      <th>min</th>\n",
       "      <td>-1.242049e+01</td>\n",
       "      <td>-3.310294e+00</td>\n",
       "      <td>-2.261643e+01</td>\n",
       "      <td>-1.437318e+01</td>\n",
       "      <td>-5.202656e+00</td>\n",
       "      <td>-2.864762e+00</td>\n",
       "      <td>-2.483277e+00</td>\n",
       "      <td>-2.299681e-02</td>\n",
       "    </tr>\n",
       "    <tr>\n",
       "      <th>25%</th>\n",
       "      <td>-6.242353e-01</td>\n",
       "      <td>-1.413770e+00</td>\n",
       "      <td>-1.063261e+00</td>\n",
       "      <td>-4.519890e-01</td>\n",
       "      <td>-2.091367e-01</td>\n",
       "      <td>-1.961837e-01</td>\n",
       "      <td>-8.136073e-02</td>\n",
       "      <td>-4.948627e-03</td>\n",
       "    </tr>\n",
       "    <tr>\n",
       "      <th>50%</th>\n",
       "      <td>-3.282779e-02</td>\n",
       "      <td>-6.309923e-01</td>\n",
       "      <td>-2.547330e-02</td>\n",
       "      <td>-5.026285e-03</td>\n",
       "      <td>1.424437e-02</td>\n",
       "      <td>-5.896255e-02</td>\n",
       "      <td>-1.841421e-03</td>\n",
       "      <td>3.612146e-04</td>\n",
       "    </tr>\n",
       "    <tr>\n",
       "      <th>75%</th>\n",
       "      <td>5.567198e-01</td>\n",
       "      <td>6.084046e-01</td>\n",
       "      <td>1.038843e+00</td>\n",
       "      <td>4.536113e-01</td>\n",
       "      <td>2.238891e-01</td>\n",
       "      <td>1.318305e-01</td>\n",
       "      <td>8.061182e-02</td>\n",
       "      <td>4.616011e-03</td>\n",
       "    </tr>\n",
       "    <tr>\n",
       "      <th>max</th>\n",
       "      <td>4.817359e+02</td>\n",
       "      <td>3.633015e+01</td>\n",
       "      <td>8.083731e+01</td>\n",
       "      <td>1.841807e+01</td>\n",
       "      <td>1.012486e+01</td>\n",
       "      <td>6.130976e+00</td>\n",
       "      <td>3.393204e+00</td>\n",
       "      <td>5.260226e-01</td>\n",
       "    </tr>\n",
       "  </tbody>\n",
       "</table>\n",
       "</div>"
      ],
      "text/plain": [
       "              pca_0         pca_1         pca_2         pca_3         pca_4  \\\n",
       "count  1.697800e+04  1.697800e+04  1.697800e+04  1.697800e+04  1.697800e+04   \n",
       "mean  -9.251641e-17  1.133733e-15 -1.114487e-15  1.205002e-15 -8.748777e-17   \n",
       "std    3.910733e+00  2.416234e+00  2.318146e+00  1.047392e+00  4.675795e-01   \n",
       "min   -1.242049e+01 -3.310294e+00 -2.261643e+01 -1.437318e+01 -5.202656e+00   \n",
       "25%   -6.242353e-01 -1.413770e+00 -1.063261e+00 -4.519890e-01 -2.091367e-01   \n",
       "50%   -3.282779e-02 -6.309923e-01 -2.547330e-02 -5.026285e-03  1.424437e-02   \n",
       "75%    5.567198e-01  6.084046e-01  1.038843e+00  4.536113e-01  2.238891e-01   \n",
       "max    4.817359e+02  3.633015e+01  8.083731e+01  1.841807e+01  1.012486e+01   \n",
       "\n",
       "              pca_5         pca_6         pca_7  \n",
       "count  1.697800e+04  1.697800e+04  1.697800e+04  \n",
       "mean  -4.389723e-16 -1.064530e-16  4.644559e-16  \n",
       "std    3.807428e-01  1.870037e-01  1.073416e-02  \n",
       "min   -2.864762e+00 -2.483277e+00 -2.299681e-02  \n",
       "25%   -1.961837e-01 -8.136073e-02 -4.948627e-03  \n",
       "50%   -5.896255e-02 -1.841421e-03  3.612146e-04  \n",
       "75%    1.318305e-01  8.061182e-02  4.616011e-03  \n",
       "max    6.130976e+00  3.393204e+00  5.260226e-01  "
      ]
     },
     "execution_count": 25,
     "metadata": {},
     "output_type": "execute_result"
    }
   ],
   "source": [
    "df_describe = pd.DataFrame(pca.transform(scaled_features), columns=[f'pca_{i}' for i in range(8)])\n",
    "df_describe.describe()"
   ]
  },
  {
   "cell_type": "code",
   "execution_count": 24,
   "id": "f19b6e36",
   "metadata": {},
   "outputs": [
    {
     "data": {
      "text/plain": [
       "['pca_0', 'pca_1', 'pca_2', 'pca_3', 'pca_4', 'pca_5', 'pca_6', 'pca_7']"
      ]
     },
     "execution_count": 24,
     "metadata": {},
     "output_type": "execute_result"
    }
   ],
   "source": [
    "[f'pca_{i}' for i in range(8)]"
   ]
  },
  {
   "cell_type": "code",
   "execution_count": null,
   "id": "84cc31d1",
   "metadata": {},
   "outputs": [],
   "source": []
  }
 ],
 "metadata": {
  "kernelspec": {
   "display_name": "Python 3",
   "language": "python",
   "name": "python3"
  },
  "language_info": {
   "codemirror_mode": {
    "name": "ipython",
    "version": 3
   },
   "file_extension": ".py",
   "mimetype": "text/x-python",
   "name": "python",
   "nbconvert_exporter": "python",
   "pygments_lexer": "ipython3",
   "version": "3.8.8"
  }
 },
 "nbformat": 4,
 "nbformat_minor": 5
}
