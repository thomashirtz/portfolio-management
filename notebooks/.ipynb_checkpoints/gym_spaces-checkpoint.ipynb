{
 "cells": [
  {
   "cell_type": "code",
   "execution_count": 2,
   "id": "096285a8",
   "metadata": {},
   "outputs": [],
   "source": [
    "import numpy as np\n",
    "from gym import spaces"
   ]
  },
  {
   "cell_type": "code",
   "execution_count": 3,
   "id": "768d2054",
   "metadata": {},
   "outputs": [],
   "source": [
    "num_currencies = 2\n",
    "num_properties = 3\n",
    "num_observations = 4\n",
    "num_complementary_data = 5\n",
    "\n",
    "s = spaces.Tuple((\n",
    "    spaces.Box(  # Market state\n",
    "        low=-np.inf,\n",
    "        high=np.inf,\n",
    "        shape=(num_currencies, num_properties, num_observations)\n",
    "    ),\n",
    "    spaces.Box(  # Current portfolio proportions\n",
    "        low=0,\n",
    "        high=1,\n",
    "        shape=(num_currencies, )\n",
    "    ),\n",
    "    spaces.Box(  # Principal and Amount\n",
    "        low=0,\n",
    "        high=1,\n",
    "        shape=(num_complementary_data,)),\n",
    "))"
   ]
  },
  {
   "cell_type": "code",
   "execution_count": 18,
   "id": "5d7cd4bc",
   "metadata": {},
   "outputs": [
    {
     "name": "stdout",
     "output_type": "stream",
     "text": [
      "dir(s)=['__class__', '__contains__', '__delattr__', '__dict__', '__dir__', '__doc__', '__eq__', '__format__', '__ge__', '__getattribute__', '__getitem__', '__gt__', '__hash__', '__init__', '__init_subclass__', '__le__', '__len__', '__lt__', '__module__', '__ne__', '__new__', '__reduce__', '__reduce_ex__', '__repr__', '__setattr__', '__sizeof__', '__str__', '__subclasshook__', '__weakref__', '_np_random', 'contains', 'dtype', 'from_jsonable', 'np_random', 'sample', 'seed', 'shape', 'spaces', 'to_jsonable']\n",
      "\n",
      "s.spaces=(Box(-inf, inf, (2, 3, 4), float32), Box(0.0, 1.0, (2,), float32), Box(0.0, 1.0, (5,), float32))\n",
      "\n",
      "dir(s.spaces[0])=['__class__', '__contains__', '__delattr__', '__dict__', '__dir__', '__doc__', '__eq__', '__format__', '__ge__', '__getattribute__', '__gt__', '__hash__', '__init__', '__init_subclass__', '__le__', '__lt__', '__module__', '__ne__', '__new__', '__reduce__', '__reduce_ex__', '__repr__', '__setattr__', '__sizeof__', '__str__', '__subclasshook__', '__weakref__', '_np_random', 'bounded_above', 'bounded_below', 'contains', 'dtype', 'from_jsonable', 'high', 'is_bounded', 'low', 'np_random', 'sample', 'seed', 'shape', 'to_jsonable']\n",
      "\n"
     ]
    }
   ],
   "source": [
    "print(f'{dir(s)=}', end='\\n\\n')\n",
    "print(f'{s.spaces=}', end='\\n\\n')\n",
    "print(f'{dir(s.spaces[0])=}', end='\\n\\n')"
   ]
  },
  {
   "cell_type": "code",
   "execution_count": 11,
   "id": "4ab7c430",
   "metadata": {},
   "outputs": [
    {
     "data": {
      "text/plain": [
       "((2, 3, 4), (2,), (5,))"
      ]
     },
     "execution_count": 11,
     "metadata": {},
     "output_type": "execute_result"
    }
   ],
   "source": [
    "tuple(space.shape for space in s.spaces)"
   ]
  }
 ],
 "metadata": {
  "kernelspec": {
   "display_name": "Python 3",
   "language": "python",
   "name": "python3"
  },
  "language_info": {
   "codemirror_mode": {
    "name": "ipython",
    "version": 3
   },
   "file_extension": ".py",
   "mimetype": "text/x-python",
   "name": "python",
   "nbconvert_exporter": "python",
   "pygments_lexer": "ipython3",
   "version": "3.8.8"
  }
 },
 "nbformat": 4,
 "nbformat_minor": 5
}
