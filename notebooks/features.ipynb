{
 "cells": [
  {
   "cell_type": "code",
   "execution_count": 1,
   "id": "af8eefd0",
   "metadata": {},
   "outputs": [],
   "source": [
    "import sys\n",
    "from pathlib import Path\n",
    "portfolio_management_path = Path.cwd().parent\n",
    "sys.path.insert(0, str(portfolio_management_path))"
   ]
  },
  {
   "cell_type": "code",
   "execution_count": 2,
   "id": "8a2809d2",
   "metadata": {},
   "outputs": [],
   "source": [
    "import xarray as xr\n",
    "import numpy as np\n",
    "import pandas as pd"
   ]
  },
  {
   "cell_type": "code",
   "execution_count": 3,
   "id": "179bd0a9",
   "metadata": {},
   "outputs": [
    {
     "name": "stdout",
     "output_type": "stream",
     "text": [
      "D:\\Thomas\\GitHub\\portfolio-management\\databases\n",
      "sqlite:///D:\\Thomas\\GitHub\\portfolio-management\\databases\\test_feature.db\n",
      "db created\n",
      "Config saved\n"
     ]
    }
   ],
   "source": [
    "from portfolio_management.database.manager import Manager\n",
    "from portfolio_management.database.retrieve import get_dataframe\n",
    "\n",
    "database_name = 'test_feature'\n",
    "\n",
    "symbol_list = [\"ETHBTC\"]\n",
    "interval = '5m'\n",
    "start = \"2021-01-01\"\n",
    "end = \"2021-03-01\"\n",
    "\n",
    "manager = Manager(\n",
    "    database_name=database_name,\n",
    "    echo=False,\n",
    "    reset_tables=True\n",
    ")\n",
    "manager.insert(\n",
    "    symbol_list=symbol_list,\n",
    "    interval=interval,\n",
    "    start=start,\n",
    "    end=end,\n",
    ")"
   ]
  },
  {
   "cell_type": "code",
   "execution_count": 4,
   "id": "bd457499",
   "metadata": {},
   "outputs": [],
   "source": [
    "df = get_dataframe(database_name='test_feature', symbol='ETHBTC', interval='5m')"
   ]
  },
  {
   "cell_type": "code",
   "execution_count": 5,
   "id": "cd4dd0db",
   "metadata": {},
   "outputs": [
    {
     "data": {
      "text/html": [
       "<div>\n",
       "<style scoped>\n",
       "    .dataframe tbody tr th:only-of-type {\n",
       "        vertical-align: middle;\n",
       "    }\n",
       "\n",
       "    .dataframe tbody tr th {\n",
       "        vertical-align: top;\n",
       "    }\n",
       "\n",
       "    .dataframe thead th {\n",
       "        text-align: right;\n",
       "    }\n",
       "</style>\n",
       "<table border=\"1\" class=\"dataframe\">\n",
       "  <thead>\n",
       "    <tr style=\"text-align: right;\">\n",
       "      <th></th>\n",
       "      <th>open</th>\n",
       "      <th>open_time</th>\n",
       "      <th>low</th>\n",
       "      <th>volume</th>\n",
       "      <th>quote_asset_volume</th>\n",
       "      <th>taker_buy_quote_asset_volume</th>\n",
       "      <th>high</th>\n",
       "      <th>close_time</th>\n",
       "      <th>close</th>\n",
       "      <th>number_of_trades</th>\n",
       "      <th>taker_buy_base_asset_volume</th>\n",
       "      <th>r_open</th>\n",
       "      <th>r_close</th>\n",
       "      <th>r_high</th>\n",
       "      <th>r_low</th>\n",
       "      <th>rto_close</th>\n",
       "      <th>rto_low</th>\n",
       "      <th>rto_high</th>\n",
       "    </tr>\n",
       "  </thead>\n",
       "  <tbody>\n",
       "    <tr>\n",
       "      <th>0</th>\n",
       "      <td>0.025464</td>\n",
       "      <td>2021-01-01 00:00:00</td>\n",
       "      <td>0.025427</td>\n",
       "      <td>1507.244</td>\n",
       "      <td>38.364181</td>\n",
       "      <td>15.995863</td>\n",
       "      <td>0.025479</td>\n",
       "      <td>2021-01-01 00:05:00</td>\n",
       "      <td>0.025436</td>\n",
       "      <td>668.0</td>\n",
       "      <td>628.523</td>\n",
       "      <td>NaN</td>\n",
       "      <td>NaN</td>\n",
       "      <td>NaN</td>\n",
       "      <td>NaN</td>\n",
       "      <td>0.998900</td>\n",
       "      <td>0.998547</td>\n",
       "      <td>1.000589</td>\n",
       "    </tr>\n",
       "    <tr>\n",
       "      <th>1</th>\n",
       "      <td>0.025440</td>\n",
       "      <td>2021-01-01 00:05:00</td>\n",
       "      <td>0.025389</td>\n",
       "      <td>860.063</td>\n",
       "      <td>21.854359</td>\n",
       "      <td>9.630976</td>\n",
       "      <td>0.025452</td>\n",
       "      <td>2021-01-01 00:10:00</td>\n",
       "      <td>0.025397</td>\n",
       "      <td>531.0</td>\n",
       "      <td>379.048</td>\n",
       "      <td>1.000943</td>\n",
       "      <td>1.001536</td>\n",
       "      <td>1.001061</td>\n",
       "      <td>1.001497</td>\n",
       "      <td>0.998310</td>\n",
       "      <td>0.997995</td>\n",
       "      <td>1.000472</td>\n",
       "    </tr>\n",
       "    <tr>\n",
       "      <th>2</th>\n",
       "      <td>0.025399</td>\n",
       "      <td>2021-01-01 00:10:00</td>\n",
       "      <td>0.025383</td>\n",
       "      <td>798.925</td>\n",
       "      <td>20.305696</td>\n",
       "      <td>9.088219</td>\n",
       "      <td>0.025452</td>\n",
       "      <td>2021-01-01 00:15:00</td>\n",
       "      <td>0.025426</td>\n",
       "      <td>736.0</td>\n",
       "      <td>357.549</td>\n",
       "      <td>1.001614</td>\n",
       "      <td>0.998859</td>\n",
       "      <td>1.000000</td>\n",
       "      <td>1.000236</td>\n",
       "      <td>1.001063</td>\n",
       "      <td>0.999370</td>\n",
       "      <td>1.002087</td>\n",
       "    </tr>\n",
       "    <tr>\n",
       "      <th>3</th>\n",
       "      <td>0.025430</td>\n",
       "      <td>2021-01-01 00:15:00</td>\n",
       "      <td>0.025375</td>\n",
       "      <td>1041.243</td>\n",
       "      <td>26.449582</td>\n",
       "      <td>7.387753</td>\n",
       "      <td>0.025433</td>\n",
       "      <td>2021-01-01 00:20:00</td>\n",
       "      <td>0.025379</td>\n",
       "      <td>612.0</td>\n",
       "      <td>290.760</td>\n",
       "      <td>0.998781</td>\n",
       "      <td>1.001852</td>\n",
       "      <td>1.000747</td>\n",
       "      <td>1.000315</td>\n",
       "      <td>0.997994</td>\n",
       "      <td>0.997837</td>\n",
       "      <td>1.000118</td>\n",
       "    </tr>\n",
       "    <tr>\n",
       "      <th>4</th>\n",
       "      <td>0.025382</td>\n",
       "      <td>2021-01-01 00:20:00</td>\n",
       "      <td>0.025366</td>\n",
       "      <td>442.481</td>\n",
       "      <td>11.229150</td>\n",
       "      <td>4.804514</td>\n",
       "      <td>0.025396</td>\n",
       "      <td>2021-01-01 00:25:00</td>\n",
       "      <td>0.025368</td>\n",
       "      <td>558.0</td>\n",
       "      <td>189.328</td>\n",
       "      <td>1.001891</td>\n",
       "      <td>1.000434</td>\n",
       "      <td>1.001457</td>\n",
       "      <td>1.000355</td>\n",
       "      <td>0.999448</td>\n",
       "      <td>0.999370</td>\n",
       "      <td>1.000552</td>\n",
       "    </tr>\n",
       "    <tr>\n",
       "      <th>...</th>\n",
       "      <td>...</td>\n",
       "      <td>...</td>\n",
       "      <td>...</td>\n",
       "      <td>...</td>\n",
       "      <td>...</td>\n",
       "      <td>...</td>\n",
       "      <td>...</td>\n",
       "      <td>...</td>\n",
       "      <td>...</td>\n",
       "      <td>...</td>\n",
       "      <td>...</td>\n",
       "      <td>...</td>\n",
       "      <td>...</td>\n",
       "      <td>...</td>\n",
       "      <td>...</td>\n",
       "      <td>...</td>\n",
       "      <td>...</td>\n",
       "      <td>...</td>\n",
       "    </tr>\n",
       "    <tr>\n",
       "      <th>16973</th>\n",
       "      <td>0.031460</td>\n",
       "      <td>2021-02-28 23:40:00</td>\n",
       "      <td>0.031372</td>\n",
       "      <td>414.093</td>\n",
       "      <td>13.013622</td>\n",
       "      <td>7.097499</td>\n",
       "      <td>0.031494</td>\n",
       "      <td>2021-02-28 23:45:00</td>\n",
       "      <td>0.031388</td>\n",
       "      <td>793.0</td>\n",
       "      <td>225.869</td>\n",
       "      <td>1.000795</td>\n",
       "      <td>1.002644</td>\n",
       "      <td>1.000349</td>\n",
       "      <td>1.001307</td>\n",
       "      <td>0.997711</td>\n",
       "      <td>0.997203</td>\n",
       "      <td>1.001081</td>\n",
       "    </tr>\n",
       "    <tr>\n",
       "      <th>16974</th>\n",
       "      <td>0.031387</td>\n",
       "      <td>2021-02-28 23:45:00</td>\n",
       "      <td>0.031339</td>\n",
       "      <td>943.247</td>\n",
       "      <td>29.610370</td>\n",
       "      <td>14.789903</td>\n",
       "      <td>0.031445</td>\n",
       "      <td>2021-02-28 23:50:00</td>\n",
       "      <td>0.031351</td>\n",
       "      <td>1131.0</td>\n",
       "      <td>471.051</td>\n",
       "      <td>1.002326</td>\n",
       "      <td>1.001180</td>\n",
       "      <td>1.001558</td>\n",
       "      <td>1.001053</td>\n",
       "      <td>0.998853</td>\n",
       "      <td>0.998471</td>\n",
       "      <td>1.001848</td>\n",
       "    </tr>\n",
       "    <tr>\n",
       "      <th>16975</th>\n",
       "      <td>0.031352</td>\n",
       "      <td>2021-02-28 23:50:00</td>\n",
       "      <td>0.031316</td>\n",
       "      <td>1061.543</td>\n",
       "      <td>33.299048</td>\n",
       "      <td>14.858739</td>\n",
       "      <td>0.031420</td>\n",
       "      <td>2021-02-28 23:55:00</td>\n",
       "      <td>0.031362</td>\n",
       "      <td>1143.0</td>\n",
       "      <td>473.565</td>\n",
       "      <td>1.001116</td>\n",
       "      <td>0.999649</td>\n",
       "      <td>1.000796</td>\n",
       "      <td>1.000734</td>\n",
       "      <td>1.000319</td>\n",
       "      <td>0.998852</td>\n",
       "      <td>1.002169</td>\n",
       "    </tr>\n",
       "    <tr>\n",
       "      <th>16976</th>\n",
       "      <td>0.031364</td>\n",
       "      <td>2021-02-28 23:55:00</td>\n",
       "      <td>0.031335</td>\n",
       "      <td>1559.008</td>\n",
       "      <td>48.959160</td>\n",
       "      <td>38.173242</td>\n",
       "      <td>0.031440</td>\n",
       "      <td>2021-03-01 00:00:00</td>\n",
       "      <td>0.031440</td>\n",
       "      <td>1050.0</td>\n",
       "      <td>1215.344</td>\n",
       "      <td>0.999617</td>\n",
       "      <td>0.997519</td>\n",
       "      <td>0.999364</td>\n",
       "      <td>0.999394</td>\n",
       "      <td>1.002423</td>\n",
       "      <td>0.999075</td>\n",
       "      <td>1.002423</td>\n",
       "    </tr>\n",
       "    <tr>\n",
       "      <th>16977</th>\n",
       "      <td>0.031441</td>\n",
       "      <td>2021-03-01 00:00:00</td>\n",
       "      <td>0.031414</td>\n",
       "      <td>1521.809</td>\n",
       "      <td>47.886707</td>\n",
       "      <td>24.815020</td>\n",
       "      <td>0.031526</td>\n",
       "      <td>2021-03-01 00:05:00</td>\n",
       "      <td>0.031415</td>\n",
       "      <td>1506.0</td>\n",
       "      <td>788.685</td>\n",
       "      <td>0.997551</td>\n",
       "      <td>1.000796</td>\n",
       "      <td>0.997272</td>\n",
       "      <td>0.997485</td>\n",
       "      <td>0.999173</td>\n",
       "      <td>0.999141</td>\n",
       "      <td>1.002703</td>\n",
       "    </tr>\n",
       "  </tbody>\n",
       "</table>\n",
       "<p>16978 rows × 18 columns</p>\n",
       "</div>"
      ],
      "text/plain": [
       "           open           open_time       low    volume  quote_asset_volume  \\\n",
       "0      0.025464 2021-01-01 00:00:00  0.025427  1507.244           38.364181   \n",
       "1      0.025440 2021-01-01 00:05:00  0.025389   860.063           21.854359   \n",
       "2      0.025399 2021-01-01 00:10:00  0.025383   798.925           20.305696   \n",
       "3      0.025430 2021-01-01 00:15:00  0.025375  1041.243           26.449582   \n",
       "4      0.025382 2021-01-01 00:20:00  0.025366   442.481           11.229150   \n",
       "...         ...                 ...       ...       ...                 ...   \n",
       "16973  0.031460 2021-02-28 23:40:00  0.031372   414.093           13.013622   \n",
       "16974  0.031387 2021-02-28 23:45:00  0.031339   943.247           29.610370   \n",
       "16975  0.031352 2021-02-28 23:50:00  0.031316  1061.543           33.299048   \n",
       "16976  0.031364 2021-02-28 23:55:00  0.031335  1559.008           48.959160   \n",
       "16977  0.031441 2021-03-01 00:00:00  0.031414  1521.809           47.886707   \n",
       "\n",
       "       taker_buy_quote_asset_volume      high          close_time     close  \\\n",
       "0                         15.995863  0.025479 2021-01-01 00:05:00  0.025436   \n",
       "1                          9.630976  0.025452 2021-01-01 00:10:00  0.025397   \n",
       "2                          9.088219  0.025452 2021-01-01 00:15:00  0.025426   \n",
       "3                          7.387753  0.025433 2021-01-01 00:20:00  0.025379   \n",
       "4                          4.804514  0.025396 2021-01-01 00:25:00  0.025368   \n",
       "...                             ...       ...                 ...       ...   \n",
       "16973                      7.097499  0.031494 2021-02-28 23:45:00  0.031388   \n",
       "16974                     14.789903  0.031445 2021-02-28 23:50:00  0.031351   \n",
       "16975                     14.858739  0.031420 2021-02-28 23:55:00  0.031362   \n",
       "16976                     38.173242  0.031440 2021-03-01 00:00:00  0.031440   \n",
       "16977                     24.815020  0.031526 2021-03-01 00:05:00  0.031415   \n",
       "\n",
       "       number_of_trades  taker_buy_base_asset_volume    r_open   r_close  \\\n",
       "0                 668.0                      628.523       NaN       NaN   \n",
       "1                 531.0                      379.048  1.000943  1.001536   \n",
       "2                 736.0                      357.549  1.001614  0.998859   \n",
       "3                 612.0                      290.760  0.998781  1.001852   \n",
       "4                 558.0                      189.328  1.001891  1.000434   \n",
       "...                 ...                          ...       ...       ...   \n",
       "16973             793.0                      225.869  1.000795  1.002644   \n",
       "16974            1131.0                      471.051  1.002326  1.001180   \n",
       "16975            1143.0                      473.565  1.001116  0.999649   \n",
       "16976            1050.0                     1215.344  0.999617  0.997519   \n",
       "16977            1506.0                      788.685  0.997551  1.000796   \n",
       "\n",
       "         r_high     r_low  rto_close   rto_low  rto_high  \n",
       "0           NaN       NaN   0.998900  0.998547  1.000589  \n",
       "1      1.001061  1.001497   0.998310  0.997995  1.000472  \n",
       "2      1.000000  1.000236   1.001063  0.999370  1.002087  \n",
       "3      1.000747  1.000315   0.997994  0.997837  1.000118  \n",
       "4      1.001457  1.000355   0.999448  0.999370  1.000552  \n",
       "...         ...       ...        ...       ...       ...  \n",
       "16973  1.000349  1.001307   0.997711  0.997203  1.001081  \n",
       "16974  1.001558  1.001053   0.998853  0.998471  1.001848  \n",
       "16975  1.000796  1.000734   1.000319  0.998852  1.002169  \n",
       "16976  0.999364  0.999394   1.002423  0.999075  1.002423  \n",
       "16977  0.997272  0.997485   0.999173  0.999141  1.002703  \n",
       "\n",
       "[16978 rows x 18 columns]"
      ]
     },
     "execution_count": 5,
     "metadata": {},
     "output_type": "execute_result"
    }
   ],
   "source": [
    "def get_relative_change(value):\n",
    "    return value.shift(1)/value\n",
    "\n",
    "def get_relative_to(value, reference):\n",
    "    return value/reference\n",
    "\n",
    "# relative change\n",
    "df['r_open'] = get_relative_change(df['open'])\n",
    "df['r_close'] = get_relative_change(df['close'])\n",
    "df['r_high'] = get_relative_change(df['high'])\n",
    "df['r_low'] = get_relative_change(df['low'])\n",
    "\n",
    "# relative to open\n",
    "df['rto_close'] = get_relative_to(df['close'], df['open'])\n",
    "df['rto_low'] = get_relative_to(df['low'], df['open'])\n",
    "df['rto_high'] = get_relative_to(df['high'], df['open'])\n",
    "\n",
    "df"
   ]
  },
  {
   "cell_type": "code",
   "execution_count": 6,
   "id": "bf7aa0b6",
   "metadata": {},
   "outputs": [
    {
     "data": {
      "text/plain": [
       "array([[1.000000e-08, 1.000000e-08, 1.000000e-08, ..., 2.542701e-02,\n",
       "        2.543601e-02, 2.547901e-02],\n",
       "       [2.546401e-02, 2.542701e-02, 2.543601e-02, ..., 2.538901e-02,\n",
       "        2.539701e-02, 2.545201e-02],\n",
       "       [2.544001e-02, 2.538901e-02, 2.539701e-02, ..., 2.538301e-02,\n",
       "        2.542601e-02, 2.545201e-02],\n",
       "       ...,\n",
       "       [3.138701e-02, 3.133901e-02, 3.135101e-02, ..., 3.131601e-02,\n",
       "        3.136201e-02, 3.142001e-02],\n",
       "       [3.135201e-02, 3.131601e-02, 3.136201e-02, ..., 3.133501e-02,\n",
       "        3.144001e-02, 3.144001e-02],\n",
       "       [3.136401e-02, 3.133501e-02, 3.144001e-02, ..., 3.141401e-02,\n",
       "        3.141501e-02, 3.152601e-02]])"
      ]
     },
     "execution_count": 6,
     "metadata": {},
     "output_type": "execute_result"
    }
   ],
   "source": [
    "df[['open_s', 'low_s', 'close_s', 'high_s']] = df[['open', 'low', 'close', 'high']].shift(1)\n",
    "nominator = np.array(df[['open_s', 'low_s', 'close_s', 'high_s', 'open', 'low', 'close', 'high']])\n",
    "denominator = np.array(df[['open', 'low', 'close', 'high']])\n",
    "\n",
    "nominator = np.nan_to_num(nominator, nan=0.0)\n",
    "denominator = np.nan_to_num(denominator, nan=0.0)\n",
    "\n",
    "epsilon = 10e-9\n",
    "nominator = nominator + epsilon\n",
    "denominator = denominator + epsilon\n",
    "\n",
    "nominator"
   ]
  },
  {
   "cell_type": "code",
   "execution_count": 7,
   "id": "ff6cbf42",
   "metadata": {},
   "outputs": [
    {
     "name": "stdout",
     "output_type": "stream",
     "text": [
      "(16978, 4)\n"
     ]
    },
    {
     "data": {
      "text/plain": [
       "array([0.03144101, 0.03141401, 0.03141501, 0.03152601])"
      ]
     },
     "execution_count": 7,
     "metadata": {},
     "output_type": "execute_result"
    }
   ],
   "source": [
    "print(denominator.shape)\n",
    "denominator[-1]"
   ]
  },
  {
   "cell_type": "code",
   "execution_count": 8,
   "id": "93447f6c",
   "metadata": {},
   "outputs": [
    {
     "name": "stdout",
     "output_type": "stream",
     "text": [
      "(16978, 8)\n"
     ]
    },
    {
     "data": {
      "text/plain": [
       "array([0.03136401, 0.03133501, 0.03144001, 0.03144001, 0.03144101,\n",
       "       0.03141401, 0.03141501, 0.03152601])"
      ]
     },
     "execution_count": 8,
     "metadata": {},
     "output_type": "execute_result"
    }
   ],
   "source": [
    "print(nominator.shape)\n",
    "nominator[-1]"
   ]
  },
  {
   "cell_type": "code",
   "execution_count": 9,
   "id": "0abebe82",
   "metadata": {},
   "outputs": [
    {
     "name": "stdout",
     "output_type": "stream",
     "text": [
      "(16978, 8, 4)\n"
     ]
    },
    {
     "data": {
      "text/plain": [
       "array([[0.03136401, 0.03136401, 0.03136401, 0.03136401],\n",
       "       [0.03133501, 0.03133501, 0.03133501, 0.03133501],\n",
       "       [0.03144001, 0.03144001, 0.03144001, 0.03144001],\n",
       "       [0.03144001, 0.03144001, 0.03144001, 0.03144001],\n",
       "       [0.03144101, 0.03144101, 0.03144101, 0.03144101],\n",
       "       [0.03141401, 0.03141401, 0.03141401, 0.03141401],\n",
       "       [0.03141501, 0.03141501, 0.03141501, 0.03141501],\n",
       "       [0.03152601, 0.03152601, 0.03152601, 0.03152601]])"
      ]
     },
     "execution_count": 9,
     "metadata": {},
     "output_type": "execute_result"
    }
   ],
   "source": [
    "nominator_ = np.reshape(np.repeat(nominator, 4), (-1,8,4))\n",
    "print(nominator_.shape)\n",
    "nominator_[-1]"
   ]
  },
  {
   "cell_type": "code",
   "execution_count": 10,
   "id": "b9f589ae",
   "metadata": {},
   "outputs": [
    {
     "name": "stdout",
     "output_type": "stream",
     "text": [
      "(16978, 8, 4)\n"
     ]
    },
    {
     "data": {
      "text/plain": [
       "array([[0.03144101, 0.03141401, 0.03141501, 0.03152601],\n",
       "       [0.03144101, 0.03141401, 0.03141501, 0.03152601],\n",
       "       [0.03144101, 0.03141401, 0.03141501, 0.03152601],\n",
       "       [0.03144101, 0.03141401, 0.03141501, 0.03152601],\n",
       "       [0.03144101, 0.03141401, 0.03141501, 0.03152601],\n",
       "       [0.03144101, 0.03141401, 0.03141501, 0.03152601],\n",
       "       [0.03144101, 0.03141401, 0.03141501, 0.03152601],\n",
       "       [0.03144101, 0.03141401, 0.03141501, 0.03152601]])"
      ]
     },
     "execution_count": 10,
     "metadata": {},
     "output_type": "execute_result"
    }
   ],
   "source": [
    "denominator_ = np.tile(np.expand_dims(denominator, axis=1), (1,8,1))\n",
    "print(denominator_.shape)\n",
    "denominator_[-1]"
   ]
  },
  {
   "cell_type": "code",
   "execution_count": 11,
   "id": "c2751a42",
   "metadata": {},
   "outputs": [
    {
     "data": {
      "text/plain": [
       "array([[0.99755097, 0.99840835, 0.99837657, 0.99486139],\n",
       "       [0.99662861, 0.9974852 , 0.99745345, 0.99394151],\n",
       "       [0.99996819, 1.00082766, 1.0007958 , 0.99727209],\n",
       "       [0.99996819, 1.00082766, 1.0007958 , 0.99727209],\n",
       "       [1.        , 1.00085949, 1.00082763, 0.99730381],\n",
       "       [0.99914125, 1.        , 0.99996817, 0.99644738],\n",
       "       [0.99917305, 1.00003183, 1.        , 0.9964791 ],\n",
       "       [1.00270348, 1.00356529, 1.00353334, 1.        ]])"
      ]
     },
     "execution_count": 11,
     "metadata": {},
     "output_type": "execute_result"
    }
   ],
   "source": [
    "new = nominator_/denominator_\n",
    "new[-1]"
   ]
  },
  {
   "cell_type": "code",
   "execution_count": 12,
   "id": "f7e1f550",
   "metadata": {},
   "outputs": [],
   "source": [
    "import numpy as np\n",
    "from matplotlib import pyplot as plt\n",
    "from sklearn.decomposition import PCA\n",
    "from sklearn.preprocessing import StandardScaler"
   ]
  },
  {
   "cell_type": "code",
   "execution_count": 13,
   "id": "a68b7fdc",
   "metadata": {},
   "outputs": [],
   "source": [
    "features = new.reshape(new.shape[0], -1)\n",
    "\n",
    "scaler = StandardScaler()\n",
    "scaler.fit(features)\n",
    "scaled_features = scaler.transform(features)"
   ]
  },
  {
   "cell_type": "code",
   "execution_count": 14,
   "id": "424e9e25",
   "metadata": {},
   "outputs": [
    {
     "data": {
      "text/plain": [
       "PCA(n_components=8)"
      ]
     },
     "execution_count": 14,
     "metadata": {},
     "output_type": "execute_result"
    }
   ],
   "source": [
    "pca = PCA(n_components=8)\n",
    "pca.fit(scaled_features)"
   ]
  },
  {
   "cell_type": "code",
   "execution_count": 15,
   "id": "44752af6",
   "metadata": {},
   "outputs": [
    {
     "data": {
      "text/plain": [
       "array([5.46176221e-01, 2.08494338e-01, 1.91910212e-01, 3.91773561e-02,\n",
       "       7.80777388e-03, 5.17702012e-03, 1.24886927e-03, 4.11483814e-06])"
      ]
     },
     "execution_count": 15,
     "metadata": {},
     "output_type": "execute_result"
    }
   ],
   "source": [
    "pca.explained_variance_ratio_"
   ]
  },
  {
   "cell_type": "code",
   "execution_count": 16,
   "id": "ba27d253",
   "metadata": {},
   "outputs": [
    {
     "data": {
      "text/plain": [
       "[<matplotlib.lines.Line2D at 0x17cf9170d00>]"
      ]
     },
     "execution_count": 16,
     "metadata": {},
     "output_type": "execute_result"
    },
    {
     "data": {
      "image/png": "[encoded data removed]",
      "text/plain": [
       "<Figure size 432x288 with 1 Axes>"
      ]
     },
     "metadata": {
      "needs_background": "light"
     },
     "output_type": "display_data"
    }
   ],
   "source": [
    "plt.plot(pca.explained_variance_ratio_)"
   ]
  },
  {
   "cell_type": "code",
   "execution_count": null,
   "id": "f1010702",
   "metadata": {},
   "outputs": [],
   "source": []
  }
 ],
 "metadata": {
  "kernelspec": {
   "display_name": "Python 3",
   "language": "python",
   "name": "python3"
  },
  "language_info": {
   "codemirror_mode": {
    "name": "ipython",
    "version": 3
   },
   "file_extension": ".py",
   "mimetype": "text/x-python",
   "name": "python",
   "nbconvert_exporter": "python",
   "pygments_lexer": "ipython3",
   "version": "3.8.8"
  }
 },
 "nbformat": 4,
 "nbformat_minor": 5
}
